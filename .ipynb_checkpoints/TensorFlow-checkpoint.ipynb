{
 "cells": [
  {
   "cell_type": "code",
   "execution_count": 1,
   "metadata": {
    "scrolled": true
   },
   "outputs": [
    {
     "name": "stderr",
     "output_type": "stream",
     "text": [
      "c:\\programdata\\anaconda3\\lib\\site-packages\\h5py\\__init__.py:36: FutureWarning: Conversion of the second argument of issubdtype from `float` to `np.floating` is deprecated. In future, it will be treated as `np.float64 == np.dtype(float).type`.\n",
      "  from ._conv import register_converters as _register_converters\n"
     ]
    }
   ],
   "source": [
    "import numpy as np\n",
    "import pandas as pd\n",
    "import matplotlib.pyplot as plt\n",
    "from data_utils import BasicFunctions, PriceFunctions\n",
    "import math\n",
    "import tensorflow as tf\n",
    "\n",
    "%matplotlib inline"
   ]
  },
  {
   "cell_type": "code",
   "execution_count": 2,
   "metadata": {},
   "outputs": [],
   "source": [
    "bf = BasicFunctions()\n",
    "pf = PriceFunctions()"
   ]
  },
  {
   "cell_type": "code",
   "execution_count": 3,
   "metadata": {},
   "outputs": [],
   "source": [
    "pd_Xtrain, pd_ytrain, pd_Xtest, pd_ytest = pf.get_pandas()"
   ]
  },
  {
   "cell_type": "code",
   "execution_count": 136,
   "metadata": {},
   "outputs": [],
   "source": [
    "class TechnicalAnalysis:\n",
    "    \n",
    "    def merge_time(self):\n",
    "        '''\n",
    "        Merges the pandas dataframes by given time. \n",
    "        \n",
    "        Returns:\n",
    "        dic (dict): Python Dictonary containing the dataframes merged for a given time\n",
    "        '''\n",
    "        dic = {}\n",
    "        fromval = 0\n",
    "        toval = 0\n",
    "        \n",
    "        for i in self.timeframe:\n",
    "            dic[str(i) + \"hour\"] = pd.DataFrame(self.df.iloc[0:0])\n",
    "        \n",
    "        for i in self.timeframe:\n",
    "            currname = str(i) + \"hour\"\n",
    "            \n",
    "            for j in range(0, self.df.shape[0], i):\n",
    "                tempdf = self.df.iloc[j:j+i]\n",
    "                dic[currname] = dic[currname].append({'Time': tempdf.index[0], 'Open': tempdf.iloc[0]['Open'], 'Close': tempdf.iloc[-1]['Close'], 'High': max(tempdf['High']), 'Low': min(tempdf['Low']), 'Volume': sum(tempdf['Volume'])}, ignore_index=True) #append returns a new dataframe\n",
    "        \n",
    "            dic[currname].set_index('Time', inplace=True)  \n",
    "            dic[currname].index = dic[currname].index.map(int) #convert to int because getting floats in scientific notation\n",
    "            \n",
    "        return dic \n",
    "            \n",
    "    def macd(self):\n",
    "        pass\n",
    "    \n",
    "    def parablicsar(self):\n",
    "        pass\n",
    "    \n",
    "    def rsi(self):\n",
    "        pass\n",
    "    \n",
    "    def bollingerband(self):\n",
    "        pass\n",
    "    \n",
    "    def obv(self):\n",
    "        pass\n",
    "    \n",
    "    def volumechange(self):\n",
    "        pass\n",
    "        \n",
    "    def __init__(self, df, timeframe = [3, 6, 24], period=[14]):\n",
    "        '''\n",
    "        Parameters:\n",
    "        ___________\n",
    "        \n",
    "        df: Pandas dataframe containing Open, Close, High, Low and Volume\n",
    "        timeframe (optional): list containing timeframes (hours for hourly data) to merge and calculate in\n",
    "        period: (optional): list containing periods to calculate in for a given timeframe\n",
    "        '''\n",
    "        self.df = df\n",
    "        self.timeframe = timeframe\n",
    "        self.period = period\n",
    "        \n",
    "ta = TechnicalAnalysis(pd_Xtrain, timeframe=[3])\n",
    "tt = ta.merge_time()\n",
    "\n",
    "#Now add unit test to these and older classes too"
   ]
  },
  {
   "cell_type": "code",
   "execution_count": null,
   "metadata": {},
   "outputs": [],
   "source": []
  },
  {
   "cell_type": "code",
   "execution_count": null,
   "metadata": {},
   "outputs": [],
   "source": []
  },
  {
   "cell_type": "code",
   "execution_count": null,
   "metadata": {},
   "outputs": [],
   "source": []
  },
  {
   "cell_type": "code",
   "execution_count": 6,
   "metadata": {},
   "outputs": [],
   "source": [
    "mean, std, Xtrain, ytrainOrig, Xtest, ytestOrig = pf.get_numpy(pd_Xtrain, pd_ytrain, pd_Xtest, pd_ytest)"
   ]
  },
  {
   "cell_type": "code",
   "execution_count": 7,
   "metadata": {},
   "outputs": [],
   "source": [
    "ytrain = bf.convert_to_one_hot(ytrainOrig, 9)\n",
    "ytest = bf.convert_to_one_hot(ytestOrig, 9)"
   ]
  },
  {
   "cell_type": "code",
   "execution_count": 8,
   "metadata": {},
   "outputs": [
    {
     "data": {
      "text/plain": [
       "(35923, 5)"
      ]
     },
     "execution_count": 8,
     "metadata": {},
     "output_type": "execute_result"
    }
   ],
   "source": [
    "Xtrain.shape"
   ]
  },
  {
   "cell_type": "code",
   "execution_count": 9,
   "metadata": {},
   "outputs": [],
   "source": [
    "def create_placeholders():\n",
    "    X = tf.placeholder(tf.float32, shape=(None, 5), name='X')\n",
    "    y = tf.placeholder(tf.int32, shape=(None, 9), name='y')\n",
    "    \n",
    "    return X,y"
   ]
  },
  {
   "cell_type": "code",
   "execution_count": 10,
   "metadata": {},
   "outputs": [],
   "source": [
    "def forward_propagation(X, training):\n",
    "    Z1 = tf.layers.dense(X, 12, name='Z1', kernel_initializer=tf.keras.initializers.he_normal(seed=1))\n",
    "    bn1 = tf.layers.batch_normalization(Z1, training=training, name='bn1')\n",
    "    ac1 = tf.nn.relu(bn1, name='ac1')\n",
    "    A1 = tf.layers.dropout(ac1, 0.3, name='A1')\n",
    "    \n",
    "    Z2 = tf.layers.dense(A1, 8, name='Z2', kernel_initializer=tf.keras.initializers.he_normal(seed=1))\n",
    "    bn2 = tf.layers.batch_normalization(Z2, training=training, name='bn2')\n",
    "    ac2 = tf.nn.relu(bn2, name='ac2')\n",
    "    A2 = tf.layers.dropout(ac2, 0.3, name='A2')\n",
    "    \n",
    "    Z3 = tf.layers.dense(A2, 9, name='Z3', kernel_initializer=tf.keras.initializers.he_normal(seed=1))\n",
    "    #AL = tf.nn.softmax(Z3)\n",
    "    return Z3"
   ]
  },
  {
   "cell_type": "code",
   "execution_count": 11,
   "metadata": {},
   "outputs": [],
   "source": [
    "def cost_function(AL, y):\n",
    "    cost = tf.reduce_mean(tf.nn.softmax_cross_entropy_with_logits_v2(labels=y, logits=AL))\n",
    "    return cost"
   ]
  },
  {
   "cell_type": "code",
   "execution_count": 12,
   "metadata": {},
   "outputs": [],
   "source": [
    "import os\n",
    "cwd = os.getcwd()\n",
    "\n",
    "from datetime import datetime\n",
    "now = datetime.utcnow().strftime(\"%Y%m%d%H%M%S\")\n",
    "root_logdir = \"tf_logs\"\n",
    "logdir = \"{}/run-{}/\".format(root_logdir, now)"
   ]
  },
  {
   "cell_type": "code",
   "execution_count": 13,
   "metadata": {
    "scrolled": false
   },
   "outputs": [
    {
     "name": "stdout",
     "output_type": "stream",
     "text": [
      "Iteration: 0 Cost: 2.725445032119751\n",
      "Iteration: 10 Cost: 2.2606911659240723\n",
      "Iteration: 20 Cost: 1.939623236656189\n",
      "Iteration: 30 Cost: 1.6958779096603394\n",
      "Iteration: 40 Cost: 1.5247739553451538\n",
      "Iteration: 50 Cost: 1.420241355895996\n",
      "Iteration: 60 Cost: 1.3144503831863403\n",
      "Iteration: 70 Cost: 1.240983009338379\n",
      "Iteration: 80 Cost: 1.1933889389038086\n",
      "Iteration: 90 Cost: 1.1564390659332275\n",
      "Iteration: 100 Cost: 1.1289771795272827\n",
      "Iteration: 110 Cost: 1.1066019535064697\n",
      "Iteration: 120 Cost: 1.087171196937561\n",
      "Iteration: 130 Cost: 1.0768532752990723\n",
      "Iteration: 140 Cost: 1.0698835849761963\n",
      "Iteration: 150 Cost: 1.064395785331726\n",
      "Iteration: 160 Cost: 1.0601791143417358\n",
      "Iteration: 170 Cost: 1.0567716360092163\n",
      "Iteration: 180 Cost: 1.0535985231399536\n",
      "Iteration: 190 Cost: 1.0502676963806152\n",
      "Iteration: 200 Cost: 1.0432792901992798\n",
      "Iteration: 210 Cost: 1.0401005744934082\n",
      "Iteration: 220 Cost: 1.0342532396316528\n",
      "Iteration: 230 Cost: 1.030457615852356\n",
      "Iteration: 240 Cost: 1.0271127223968506\n",
      "Iteration: 250 Cost: 1.024445652961731\n",
      "Iteration: 260 Cost: 1.0225117206573486\n",
      "Iteration: 270 Cost: 1.021009087562561\n",
      "Iteration: 280 Cost: 1.0197304487228394\n",
      "Iteration: 290 Cost: 1.0185710191726685\n"
     ]
    },
    {
     "data": {
      "image/png": "[encoded data removed]",
      "text/plain": [
       "<matplotlib.figure.Figure at 0x10f658a3c50>"
      ]
     },
     "metadata": {},
     "output_type": "display_data"
    }
   ],
   "source": [
    "tf.reset_default_graph()\n",
    "\n",
    "with tf.name_scope('Initialize'):\n",
    "    X, y = create_placeholders()\n",
    "    training = tf.placeholder(tf.bool, shape=(), name='training')\n",
    "    \n",
    "with tf.name_scope('ForwardPropagation'):\n",
    "    AL = forward_propagation(X, training)\n",
    "    \n",
    "with tf.name_scope('CostFunction'):\n",
    "    cost = cost_function(AL, ytrain)\n",
    "    \n",
    "with tf.name_scope('BackPropagation'):\n",
    "    optimizer = tf.train.AdamOptimizer(learning_rate=0.005).minimize(cost)\n",
    "    \n",
    "init = tf.global_variables_initializer()\n",
    "\n",
    "cost_summary = tf.summary.scalar('Cost', cost)\n",
    "file_writer = tf.summary.FileWriter(logdir, tf.get_default_graph())\n",
    "\n",
    "costs = []\n",
    "\n",
    "with tf.Session() as sess:\n",
    "    sess.run(init)\n",
    "    mini_batches = bf.initialize_mini_batch(Xtrain, ytrain, batchsize=64)\n",
    "    \n",
    "    for i in range(300):\n",
    "        for batch in mini_batches:\n",
    "            (Xbatch, ybatch) = batch\n",
    "            sess.run(optimizer, feed_dict={X: Xbatch, y: ybatch, training: True})\n",
    "            \n",
    "        if (i % 10 == 0):\n",
    "            cost_str = cost_summary.eval(feed_dict={X: Xbatch, y: ybatch, training: True})\n",
    "            costeval = cost.eval(feed_dict={X: Xbatch, y: ybatch, training: True}) #this line is being repeated\n",
    "            costs.append(costeval)\n",
    "            print(\"Iteration: {} Cost: {}\".format(i, costeval))\n",
    "            \n",
    "            file_writer.add_summary(cost_str, i)\n",
    "            \n",
    "    \n",
    "    saver = tf.train.Saver()\n",
    "    saver.save(sess, cwd + '/tf_logs/session/session.chkp')\n",
    "    file_writer.close()\n",
    "    \n",
    "bf.single_plot(costs, log=False)"
   ]
  },
  {
   "cell_type": "code",
   "execution_count": 14,
   "metadata": {},
   "outputs": [],
   "source": [
    "def calculate_accuracy(y, AL):\n",
    "    ALVals = AL.argmax(axis=1) - 4\n",
    "    yVals = y.argmax(axis=1) - 4\n",
    "    \n",
    "    accurate = np.sum(yVals == ALVals)\n",
    "    accuracy = accurate/yVals.shape[0]\n",
    "    print(\"Accuracy: \" + str(accuracy))\n",
    "    print(\"Accuracy if all zero predicted:\" + str(np.sum(yVals == 0)/yVals.shape[0]))\n",
    "    \n",
    "    print(\"\\nValues and their occurance:\")\n",
    "    \n",
    "    for i in range(-4,5):\n",
    "        print(\"Number: \" + str(i))\n",
    "        print(\"Occurance in Data:\" +  str(np.sum(yVals == i)))\n",
    "        print(\"Occurance in Prediction:\" +  str(np.sum(ALVals == i)))\n",
    "        print()"
   ]
  },
  {
   "cell_type": "code",
   "execution_count": 15,
   "metadata": {},
   "outputs": [
    {
     "name": "stdout",
     "output_type": "stream",
     "text": [
      "INFO:tensorflow:Restoring parameters from C:\\Users\\User\\Desktop\\Dissertation\\CryptoPredictor/tf_logs/session/session.chkp\n",
      "Accuracy: 0.7089051582551569\n",
      "Accuracy if all zero predicted:0.7270272527350166\n",
      "\n",
      "Values and their occurance:\n",
      "Number: -4\n",
      "Occurance in Data:223\n",
      "Occurance in Prediction:0\n",
      "\n",
      "Number: -3\n",
      "Occurance in Data:679\n",
      "Occurance in Prediction:0\n",
      "\n",
      "Number: -2\n",
      "Occurance in Data:1533\n",
      "Occurance in Prediction:0\n",
      "\n",
      "Number: -1\n",
      "Occurance in Data:1935\n",
      "Occurance in Prediction:0\n",
      "\n",
      "Number: 0\n",
      "Occurance in Data:26117\n",
      "Occurance in Prediction:34456\n",
      "\n",
      "Number: 1\n",
      "Occurance in Data:2685\n",
      "Occurance in Prediction:0\n",
      "\n",
      "Number: 2\n",
      "Occurance in Data:2045\n",
      "Occurance in Prediction:1467\n",
      "\n",
      "Number: 3\n",
      "Occurance in Data:605\n",
      "Occurance in Prediction:0\n",
      "\n",
      "Number: 4\n",
      "Occurance in Data:101\n",
      "Occurance in Prediction:0\n",
      "\n"
     ]
    }
   ],
   "source": [
    "with tf.Session() as sess:\n",
    "    saver = tf.train.Saver()\n",
    "    saver.restore(sess, cwd + '/tf_logs/session/session.chkp')\n",
    "    \n",
    "    Z = sess.run(AL, feed_dict={X: Xtrain, training: False})\n",
    "    ALast = tf.nn.softmax(Z).eval()\n",
    "    \n",
    "    calculate_accuracy(ytrain, ALast)"
   ]
  },
  {
   "cell_type": "code",
   "execution_count": 11,
   "metadata": {},
   "outputs": [],
   "source": [
    "#fix the issues with cost then calculate accuracy. Then backtest. Then TA. Then twitter, reddit."
   ]
  }
 ],
 "metadata": {
  "kernelspec": {
   "display_name": "Python 3",
   "language": "python",
   "name": "python3"
  },
  "language_info": {
   "codemirror_mode": {
    "name": "ipython",
    "version": 3
   },
   "file_extension": ".py",
   "mimetype": "text/x-python",
   "name": "python",
   "nbconvert_exporter": "python",
   "pygments_lexer": "ipython3",
   "version": "3.6.1"
  }
 },
 "nbformat": 4,
 "nbformat_minor": 2
}
