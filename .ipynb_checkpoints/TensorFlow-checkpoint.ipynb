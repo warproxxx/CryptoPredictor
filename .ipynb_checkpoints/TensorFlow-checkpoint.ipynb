{
 "cells": [
  {
   "cell_type": "code",
   "execution_count": 1,
   "metadata": {
    "scrolled": true
   },
   "outputs": [
    {
     "name": "stderr",
     "output_type": "stream",
     "text": [
      "c:\\programdata\\anaconda3\\lib\\site-packages\\h5py\\__init__.py:36: FutureWarning: Conversion of the second argument of issubdtype from `float` to `np.floating` is deprecated. In future, it will be treated as `np.float64 == np.dtype(float).type`.\n",
      "  from ._conv import register_converters as _register_converters\n"
     ]
    }
   ],
   "source": [
    "import numpy as np\n",
    "import pandas as pd\n",
    "import matplotlib.pyplot as plt\n",
    "from data_utils import BasicFunctions, PriceFunctions\n",
    "import math\n",
    "import tensorflow as tf\n",
    "\n",
    "%matplotlib inline"
   ]
  },
  {
   "cell_type": "code",
   "execution_count": 2,
   "metadata": {},
   "outputs": [],
   "source": [
    "bf = BasicFunctions()\n",
    "pf = PriceFunctions()"
   ]
  },
  {
   "cell_type": "code",
   "execution_count": 3,
   "metadata": {},
   "outputs": [],
   "source": [
    "mean, std, pd_Xtrain, pd_ytrain, pd_Xtest, pd_ytest, Xtrain, ytrainOrig, Xtest, ytestOrig = pf.return_data()"
   ]
  },
  {
   "cell_type": "code",
   "execution_count": 4,
   "metadata": {},
   "outputs": [],
   "source": [
    "ytrain = bf.convert_to_one_hot(ytrainOrig, 9)\n",
    "ytest = bf.convert_to_one_hot(ytestOrig, 9)"
   ]
  },
  {
   "cell_type": "code",
   "execution_count": 5,
   "metadata": {},
   "outputs": [
    {
     "data": {
      "text/plain": [
       "(35923, 5)"
      ]
     },
     "execution_count": 5,
     "metadata": {},
     "output_type": "execute_result"
    }
   ],
   "source": [
    "Xtrain.shape"
   ]
  },
  {
   "cell_type": "code",
   "execution_count": 6,
   "metadata": {},
   "outputs": [],
   "source": [
    "def create_placeholders():\n",
    "    X = tf.placeholder(tf.float32, shape=(None, 5), name='X')\n",
    "    y = tf.placeholder(tf.int32, shape=(None, 9), name='y')\n",
    "    \n",
    "    return X,y"
   ]
  },
  {
   "cell_type": "code",
   "execution_count": 7,
   "metadata": {},
   "outputs": [],
   "source": [
    "def forward_propagation(X, training):\n",
    "    Z1 = tf.layers.dense(X, 12, name='Z1', kernel_initializer=tf.keras.initializers.he_normal(seed=1))\n",
    "    bn1 = tf.layers.batch_normalization(Z1, training=training, name='bn1')\n",
    "    ac1 = tf.nn.relu(bn1, name='ac1')\n",
    "    A1 = tf.layers.dropout(ac1, 0.3, name='A1')\n",
    "    \n",
    "    Z2 = tf.layers.dense(A1, 8, name='Z2', kernel_initializer=tf.keras.initializers.he_normal(seed=1))\n",
    "    bn2 = tf.layers.batch_normalization(Z2, training=training, name='bn2')\n",
    "    ac2 = tf.nn.relu(bn2, name='ac2')\n",
    "    A2 = tf.layers.dropout(ac2, 0.3, name='A2')\n",
    "    \n",
    "    Z3 = tf.layers.dense(A2, 9, name='Z3', kernel_initializer=tf.keras.initializers.he_normal(seed=1))\n",
    "    AL = tf.nn.softmax(Z3)\n",
    "    return AL"
   ]
  },
  {
   "cell_type": "code",
   "execution_count": 26,
   "metadata": {},
   "outputs": [],
   "source": [
    "def cost_function(AL, y):\n",
    "    cost = -tf.reduce_sum(y * tf.log(AL))\n",
    "    return cost"
   ]
  },
  {
   "cell_type": "code",
   "execution_count": 11,
   "metadata": {},
   "outputs": [],
   "source": [
    "import os\n",
    "cwd = os.getcwd()\n",
    "\n",
    "from datetime import datetime\n",
    "now = datetime.utcnow().strftime(\"%Y%m%d%H%M%S\")\n",
    "root_logdir = \"tf_logs\"\n",
    "logdir = \"{}/run-{}/\".format(root_logdir, now)"
   ]
  },
  {
   "cell_type": "code",
   "execution_count": 27,
   "metadata": {},
   "outputs": [
    {
     "name": "stdout",
     "output_type": "stream",
     "text": [
      "Iteration: 0 Cost: 95839.3984375\n",
      "Iteration: 10 Cost: 69020.453125\n",
      "Iteration: 20 Cost: 54460.8828125\n",
      "Iteration: 30 Cost: 47575.171875\n",
      "Iteration: 40 Cost: 43106.484375\n",
      "Iteration: 50 Cost: 40744.51171875\n",
      "Iteration: 60 Cost: 39581.5546875\n",
      "Iteration: 70 Cost: 38852.953125\n",
      "Iteration: 80 Cost: 38404.640625\n",
      "Iteration: 90 Cost: 38101.30078125\n",
      "Iteration: 100 Cost: 37821.53515625\n",
      "Iteration: 110 Cost: 37666.234375\n",
      "Iteration: 120 Cost: 37505.04296875\n",
      "Iteration: 130 Cost: 37330.2265625\n",
      "Iteration: 140 Cost: 37145.11328125\n",
      "Iteration: 150 Cost: 36939.66015625\n",
      "Iteration: 160 Cost: 36729.609375\n",
      "Iteration: 170 Cost: 36631.0234375\n",
      "Iteration: 180 Cost: 36546.078125\n",
      "Iteration: 190 Cost: 36488.328125\n",
      "Iteration: 200 Cost: 36470.87109375\n",
      "Iteration: 210 Cost: 36424.4140625\n",
      "Iteration: 220 Cost: 36363.609375\n",
      "Iteration: 230 Cost: 36323.328125\n",
      "Iteration: 240 Cost: 36288.90234375\n",
      "Iteration: 250 Cost: 36257.67578125\n",
      "Iteration: 260 Cost: 36228.90625\n",
      "Iteration: 270 Cost: 36198.44140625\n",
      "Iteration: 280 Cost: 36168.7890625\n",
      "Iteration: 290 Cost: 36140.3828125\n"
     ]
    }
   ],
   "source": [
    "tf.reset_default_graph()\n",
    "\n",
    "with tf.name_scope('Initialize'):\n",
    "    X, y = create_placeholders()\n",
    "    training = tf.placeholder(tf.bool, shape=(), name='training')\n",
    "    \n",
    "with tf.name_scope('ForwardPropagation'):\n",
    "    AL = forward_propagation(X, training)\n",
    "    \n",
    "with tf.name_scope('CostFunction'):\n",
    "    cost = cost_function(AL, ytrain)\n",
    "    \n",
    "with tf.name_scope('BackPropagation'):\n",
    "    optimizer = tf.train.AdamOptimizer(learning_rate=0.01).minimize(cost)\n",
    "    \n",
    "init = tf.global_variables_initializer()\n",
    "\n",
    "cost_summary = tf.summary.scalar('Cost', cost)\n",
    "file_writer = tf.summary.FileWriter(logdir, tf.get_default_graph())\n",
    "\n",
    "with tf.Session() as sess:\n",
    "    sess.run(init)\n",
    "    mini_batches = bf.initialize_mini_batch(Xtrain, ytrain, batchsize=32)\n",
    "    \n",
    "    for i in range(300):\n",
    "        for batch in mini_batches:\n",
    "            (Xbatch, ybatch) = batch\n",
    "            sess.run(optimizer, feed_dict={X: Xbatch, y: ybatch, training: True})\n",
    "            \n",
    "        if (i % 10 == 0):\n",
    "            cost_str = cost_summary.eval(feed_dict={X: Xbatch, y: ybatch, training: True})\n",
    "            costeval = cost.eval(feed_dict={X: Xbatch, y: ybatch, training: True}) #this line is being repeated and there is some issues with cost\n",
    "            \n",
    "            print(\"Iteration: {} Cost: {}\".format(i, costeval))\n",
    "            \n",
    "            file_writer.add_summary(cost_str, i)\n",
    "            \n",
    "    \n",
    "    saver = tf.train.Saver()\n",
    "    saver.save(sess, cwd + '/tf_logs/session/session.chkp')\n",
    "    file_writer.close()"
   ]
  },
  {
   "cell_type": "code",
   "execution_count": null,
   "metadata": {},
   "outputs": [],
   "source": []
  }
 ],
 "metadata": {
  "kernelspec": {
   "display_name": "Python 3",
   "language": "python",
   "name": "python3"
  },
  "language_info": {
   "codemirror_mode": {
    "name": "ipython",
    "version": 3
   },
   "file_extension": ".py",
   "mimetype": "text/x-python",
   "name": "python",
   "nbconvert_exporter": "python",
   "pygments_lexer": "ipython3",
   "version": "3.6.1"
  }
 },
 "nbformat": 4,
 "nbformat_minor": 2
}
