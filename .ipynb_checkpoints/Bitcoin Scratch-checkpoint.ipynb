{
 "cells": [
  {
   "cell_type": "code",
   "execution_count": 1,
   "metadata": {},
   "outputs": [],
   "source": [
    "import numpy as np\n",
    "import pandas as pd\n",
    "import matplotlib.pyplot as plt\n",
    "from cp_common import process_price_data as cpc\n",
    "from cp_scratch import network_fundamentals as cpsn\n",
    "from cp_scratch import basic_functions as cpsb\n",
    "%matplotlib inline"
   ]
  },
  {
   "cell_type": "markdown",
   "metadata": {},
   "source": [
    "Might wanna later change all calculations to GPU"
   ]
  },
  {
   "cell_type": "code",
   "execution_count": 2,
   "metadata": {},
   "outputs": [
    {
     "name": "stdout",
     "output_type": "stream",
     "text": [
      "Loaded BCHARTS/BITFINEXUSD from cache\n",
      "Loaded BCHARTS/COINBASEUSD from cache\n"
     ]
    }
   ],
   "source": [
    "mean, std, pd_Xtrain, pd_ytrain, pd_Xtest, pd_ytest, Xtrain, ytrainOrig, Xtest, ytestOrig = cpc.return_data()"
   ]
  },
  {
   "cell_type": "code",
   "execution_count": 3,
   "metadata": {},
   "outputs": [],
   "source": [
    "ytrain = cpsb.convert_to_one_hot(ytrainOrig, 9)\n",
    "ytest = cpsb.convert_to_one_hot(ytestOrig, 9)"
   ]
  },
  {
   "cell_type": "code",
   "execution_count": 4,
   "metadata": {},
   "outputs": [
    {
     "name": "stdout",
     "output_type": "stream",
     "text": [
      "(7, 1500)\n",
      "(1, 1500)\n",
      "(9, 1500)\n",
      "\n",
      "(7, 156)\n",
      "(1, 156)\n",
      "(9, 156)\n"
     ]
    }
   ],
   "source": [
    "print(Xtrain.shape)\n",
    "print(ytrainOrig.shape)\n",
    "print(ytrain.shape)\n",
    "print()\n",
    "print(Xtest.shape)\n",
    "print(ytestOrig.shape)\n",
    "print(ytest.shape)"
   ]
  },
  {
   "cell_type": "code",
   "execution_count": 5,
   "metadata": {},
   "outputs": [],
   "source": [
    "def performNN(X, y, network, learning_rate, iterations, lambd, debug=0):\n",
    "    \n",
    "    parameters = cpsn.initialize_parameters(network)\n",
    "    amount = len(parameters) // 2\n",
    "    costs = []\n",
    "    \n",
    "    for i in range(0,iterations):\n",
    "        cache, AL = cpsn.forward_propagation(X, parameters)\n",
    "        cost = cpsn.cost_function(AL, y, lambd, parameters)\n",
    "        costs.append(cost)\n",
    "        \n",
    "        if (debug == 1):\n",
    "            if (i % 500 == 0):\n",
    "                print(\"Cost after {} iterations is: {}\".format(i, cost))\n",
    "        \n",
    "        grads = cpsn.back_propagation(X, y, cache, parameters, lambd)\n",
    "        \n",
    "        for j in range(1,amount+1):\n",
    "            parameters['W' + str(j)] = parameters['W' + str(j)] - learning_rate * grads['dW' + str(j)]\n",
    "            parameters['b' + str(j)] = parameters['b' + str(j)] - learning_rate * grads['db' + str(j)]\n",
    "    \n",
    "    if (debug == 1):\n",
    "        #plot costs with number of iterations\n",
    "        cpsb.single_plot(costs, 'Iterations VS Cost', 'Number of Iterations', 'Cost')\n",
    "        print(\"Final Cost: \" + str(costs[-1]))\n",
    "    \n",
    "    return costs, parameters; #parameters is needed to compute forward_propage for other values of X"
   ]
  },
  {
   "cell_type": "code",
   "execution_count": 18,
   "metadata": {},
   "outputs": [
    {
     "name": "stdout",
     "output_type": "stream",
     "text": [
      "Cost after 0 iterations is: 59.35228254516273\n",
      "Cost after 500 iterations is: 54.67595939587953\n",
      "Cost after 1000 iterations is: 52.73567254204142\n",
      "Cost after 1500 iterations is: 51.069664186092254\n",
      "Cost after 2000 iterations is: 49.542295644895056\n",
      "Final Cost: 48.10827299041492\n"
     ]
    },
    {
     "data": {
      "image/png": "[encoded data removed]",
      "text/plain": [
       "<matplotlib.figure.Figure at 0x1a74fe4fdd8>"
      ]
     },
     "metadata": {},
     "output_type": "display_data"
    }
   ],
   "source": [
    "costs,param = performNN(Xtrain, ytrain, [7, 8, 5, 9], 0.0003, 2500, 0, debug=1) #do sth about the cost function then add random seed."
   ]
  },
  {
   "cell_type": "code",
   "execution_count": null,
   "metadata": {},
   "outputs": [],
   "source": []
  },
  {
   "cell_type": "code",
   "execution_count": null,
   "metadata": {},
   "outputs": [],
   "source": []
  }
 ],
 "metadata": {
  "kernelspec": {
   "display_name": "Python 3",
   "language": "python",
   "name": "python3"
  },
  "language_info": {
   "codemirror_mode": {
    "name": "ipython",
    "version": 3
   },
   "file_extension": ".py",
   "mimetype": "text/x-python",
   "name": "python",
   "nbconvert_exporter": "python",
   "pygments_lexer": "ipython3",
   "version": "3.6.1"
  }
 },
 "nbformat": 4,
 "nbformat_minor": 2
}
