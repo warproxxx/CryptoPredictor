{
 "cells": [
  {
   "cell_type": "code",
   "execution_count": 1,
   "metadata": {},
   "outputs": [],
   "source": [
    "import numpy as np\n",
    "import pandas as pd\n",
    "import matplotlib.pyplot as plt\n",
    "from cp_common import process_price_data as cpc\n",
    "from cp_scratch import network_fundamentals as cpsn\n",
    "from cp_scratch import basic_functions as cpsb\n",
    "%matplotlib inline"
   ]
  },
  {
   "cell_type": "markdown",
   "metadata": {},
   "source": [
    "Might wanna later change all calculations to GPU"
   ]
  },
  {
   "cell_type": "code",
   "execution_count": 2,
   "metadata": {},
   "outputs": [
    {
     "name": "stdout",
     "output_type": "stream",
     "text": [
      "Loaded BCHARTS/BITFINEXUSD from cache\n",
      "Loaded BCHARTS/COINBASEUSD from cache\n"
     ]
    }
   ],
   "source": [
    "mean, std, pd_Xtrain, pd_ytrain, pd_Xtest, pd_ytest, Xtrain, ytrainOrig, Xtest, ytestOrig = cpc.return_data()"
   ]
  },
  {
   "cell_type": "code",
   "execution_count": 3,
   "metadata": {},
   "outputs": [],
   "source": [
    "ytrain = cpsb.convert_to_one_hot(ytrainOrig, 9)\n",
    "ytest = cpsb.convert_to_one_hot(ytestOrig, 9)"
   ]
  },
  {
   "cell_type": "code",
   "execution_count": 4,
   "metadata": {},
   "outputs": [
    {
     "name": "stdout",
     "output_type": "stream",
     "text": [
      "(7, 1500)\n",
      "(1, 1500)\n",
      "(9, 1500)\n",
      "\n",
      "(7, 156)\n",
      "(1, 156)\n",
      "(9, 156)\n"
     ]
    }
   ],
   "source": [
    "print(Xtrain.shape)\n",
    "print(ytrainOrig.shape)\n",
    "print(ytrain.shape)\n",
    "print()\n",
    "print(Xtest.shape)\n",
    "print(ytestOrig.shape)\n",
    "print(ytest.shape)"
   ]
  },
  {
   "cell_type": "code",
   "execution_count": 23,
   "metadata": {},
   "outputs": [],
   "source": [
    "def performNN(X, y, network, learning_rate, iterations, lambd, debug=0):\n",
    "    \n",
    "    parameters = cpsn.initialize_parameters(network, debug=1)\n",
    "    amount = len(parameters) // 2\n",
    "    costs = []\n",
    "    \n",
    "    for i in range(0,iterations):\n",
    "        cache, AL = cpsn.forward_propagation(X, parameters)\n",
    "        cost = cpsn.cost_function(AL, y, lambd, parameters)\n",
    "        costs.append(cost)\n",
    "        \n",
    "        if (debug == 1):\n",
    "            if (i % 500 == 0):\n",
    "                print(\"Cost after {} iterations is: {}\".format(i, cost))\n",
    "        \n",
    "        grads = cpsn.back_propagation(X, y, cache, parameters, lambd)\n",
    "        \n",
    "        for j in range(1,amount+1):\n",
    "            parameters['W' + str(j)] = parameters['W' + str(j)] - learning_rate * grads['dW' + str(j)]\n",
    "            parameters['b' + str(j)] = parameters['b' + str(j)] - learning_rate * grads['db' + str(j)]\n",
    "    \n",
    "    if (debug == 1):\n",
    "        #plot costs with number of iterations\n",
    "        cpsb.single_plot(costs, 'Iterations VS Cost', 'Number of Iterations', 'Cost')\n",
    "        print(\"Final Cost: \" + str(costs[-1]))\n",
    "    \n",
    "    return costs, parameters, cache; #parameters is needed to compute forward_propage for other values of X"
   ]
  },
  {
   "cell_type": "code",
   "execution_count": 15,
   "metadata": {},
   "outputs": [],
   "source": [
    "def performAdvNN(X, y, network, learning_rate , iterations, lambd, nntype='gd', batch_size=64, debug=0, beta1 = 0.9, beta2 = 0.999,  epsilon = 1e-8):\n",
    "    parameters = cpsn.initialize_parameters(network)\n",
    "    amount = len(parameters) // 2\n",
    "    costs = []\n",
    "    mini_batches = cpsb.initialize_mini_batch(X, y, batch_size)\n",
    "    \n",
    "    t=0\n",
    "    \n",
    "    if nntype=='adam':\n",
    "        v, s = cpsb.initialize_adam(parameters)\n",
    "        v_corrected={}\n",
    "        s_corrected={}\n",
    "    \n",
    "    for i in range(0,iterations):\n",
    "        for batch in mini_batches:\n",
    "            (Xbatch, ybatch) = batch\n",
    "            \n",
    "            cache,AL = cpsn.forward_propagation(Xbatch, parameters)\n",
    "            grads = cpsn.back_propagation(Xbatch, ybatch, cache, parameters, lambd)\n",
    "            \n",
    "            for j in range(1,amount+1):\n",
    "                if (nntype == 'gd'):\n",
    "                    parameters['W' + str(j)] = parameters['W' + str(j)] - learning_rate * grads['dW' + str(j)]\n",
    "                    parameters['b' + str(j)] = parameters['b' + str(j)] - learning_rate * grads['db' + str(j)]\n",
    "                elif (nntype == 'adam'):\n",
    "                    v['dW' + str(j)] = beta1 * v['dW' + str(j)] + (1-beta1) * grads['dW' + str(j)]\n",
    "                    v['db' + str(j)] = beta2 * v['db' + str(j)] + (1-beta1) * grads['db' + str(j)]\n",
    "                    t = t + 1 #Reset?\n",
    "                    \n",
    "                    v_corrected['dW' + str(j)] = v['dW' + str(j)] / (1-(beta1 ** t))\n",
    "                    v_corrected['db' + str(j)] = v['db' + str(j)] / (1-(beta1 ** t))\n",
    "                    \n",
    "                    s['dW' + str(j)] = beta2 * s['dW' + str(j)] + (1-beta2) * (grads['dW' + str(j)] ** 2)\n",
    "                    s['db' + str(j)] = beta2 * s['db' + str(j)] + (1-beta2) * (grads['db' + str(j)] ** 2)\n",
    "                    \n",
    "                    s_corrected['dW' + str(j)] = s['dW' + str(j)] / (1-(beta2 ** t))\n",
    "                    s_corrected['db' + str(j)] = s['db' + str(j)] / (1-(beta2 ** t))\n",
    "                    \n",
    "                    parameters['W' + str(j)] = parameters['W' + str(j)] - (learning_rate * (v_corrected['dW' + str(j)] / (np.sqrt(s_corrected['dW' + str(j)] + epsilon))))\n",
    "                    parameters['b' + str(j)] = parameters['b' + str(j)] - (learning_rate * (v_corrected['db' + str(j)] / (np.sqrt(s_corrected['db' + str(j)] + epsilon))))\n",
    "        \n",
    "        cache,AL = cpsn.forward_propagation(X, parameters)\n",
    "        cost = cpsn.cost_function(AL, y, lambd, parameters)\n",
    "        costs.append(cost)\n",
    "        \n",
    "        if (debug == 1):\n",
    "            if (i % 500 == 0):\n",
    "                print(\"Cost after {} iterations is: {}\".format(i, cost))\n",
    "        \n",
    "    if (debug == 1):\n",
    "        cpsb.single_plot(costs, 'Iterations VS Cost', 'Number of Iterations', 'Cost')\n",
    "        print(\"Final Cost: \" + str(costs[-1]))\n",
    "        \n",
    "    return costs, parameters; #parameters is needed to compute forward_propage for other values of X "
   ]
  },
  {
   "cell_type": "code",
   "execution_count": 24,
   "metadata": {
    "scrolled": true
   },
   "outputs": [
    {
     "name": "stdout",
     "output_type": "stream",
     "text": [
      "Cost after 0 iterations is: 0.9044785866131583\n",
      "Cost after 500 iterations is: 0.6245815451020207\n",
      "Cost after 1000 iterations is: 0.5013005818158004\n",
      "Cost after 1500 iterations is: 0.4303665060087619\n",
      "Final Cost: 0.37607125961023535\n"
     ]
    },
    {
     "data": {
      "image/png": "[encoded data removed]",
      "text/plain": [
       "<matplotlib.figure.Figure at 0x23242ee5b70>"
      ]
     },
     "metadata": {},
     "output_type": "display_data"
    }
   ],
   "source": [
    "costs,param,cache = performNN(Xtrain, ytrain, [7, 8, 5, 9], 0.0007, 2000, 0, debug=1) #do sth about the cost function then add random seed."
   ]
  },
  {
   "cell_type": "code",
   "execution_count": 18,
   "metadata": {},
   "outputs": [
    {
     "name": "stdout",
     "output_type": "stream",
     "text": [
      "Cost after 0 iterations is: 0.7287909096735374\n",
      "Final Cost: 3.880288682987804e-14\n"
     ]
    },
    {
     "data": {
      "image/png": "[encoded data removed]",
      "text/plain": [
       "<matplotlib.figure.Figure at 0x23246e8a7b8>"
      ]
     },
     "metadata": {},
     "output_type": "display_data"
    }
   ],
   "source": [
    "costs,adamParam = performAdvNN(Xtrain, ytrain, [7, 8, 5, 9], 0.0007, 300, 0, nntype='adam' , debug=1) #do sth about the cost function then add random seed."
   ]
  },
  {
   "cell_type": "code",
   "execution_count": 7,
   "metadata": {},
   "outputs": [],
   "source": [
    "def calculate_accuracy(X, y, params):\n",
    "    cache, AL = cpsn.forward_propagation(X, params)\n",
    "    y, AL = y.T, AL.T\n",
    "    \n",
    "    yVals = y.argmax(axis=1) - 4\n",
    "    ALpred = AL.argmax(axis=1) - 4\n",
    "    \n",
    "    accurate = np.sum(yVals == ALpred)\n",
    "    accuracy = accurate/yVals.shape[0]\n",
    "    print(\"Accuracy: \" + str(accuracy))\n",
    "    print(\"Accuracy if all zero predicted:\" + str(np.sum(yVals == 0)/yVals.shape[0]))\n",
    "    \n",
    "    print(\"\\nValues and their occurance:\")\n",
    "    \n",
    "    for i in range(-4,5):\n",
    "        print(\"Number: \" + str(i))\n",
    "        print(\"Occurance in Data:\" +  str(np.sum(yVals == i)))\n",
    "        print(\"Occurance in Prediction:\" +  str(np.sum(ALpred == i)))\n",
    "        print()"
   ]
  },
  {
   "cell_type": "code",
   "execution_count": 8,
   "metadata": {},
   "outputs": [
    {
     "name": "stdout",
     "output_type": "stream",
     "text": [
      "Accuracy: 0.5813333333333334\n",
      "Accuracy if all zero predicted:0.746\n",
      "\n",
      "Values and their occurance:\n",
      "Number: -4\n",
      "Occurance in Data:5\n",
      "Occurance in Prediction:0\n",
      "\n",
      "Number: -3\n",
      "Occurance in Data:20\n",
      "Occurance in Prediction:2\n",
      "\n",
      "Number: -2\n",
      "Occurance in Data:62\n",
      "Occurance in Prediction:0\n",
      "\n",
      "Number: -1\n",
      "Occurance in Data:73\n",
      "Occurance in Prediction:0\n",
      "\n",
      "Number: 0\n",
      "Occurance in Data:1119\n",
      "Occurance in Prediction:1061\n",
      "\n",
      "Number: 1\n",
      "Occurance in Data:101\n",
      "Occurance in Prediction:201\n",
      "\n",
      "Number: 2\n",
      "Occurance in Data:89\n",
      "Occurance in Prediction:236\n",
      "\n",
      "Number: 3\n",
      "Occurance in Data:24\n",
      "Occurance in Prediction:0\n",
      "\n",
      "Number: 4\n",
      "Occurance in Data:7\n",
      "Occurance in Prediction:0\n",
      "\n"
     ]
    }
   ],
   "source": [
    "calculate_accuracy(Xtrain, ytrain, param)"
   ]
  },
  {
   "cell_type": "code",
   "execution_count": 19,
   "metadata": {},
   "outputs": [
    {
     "name": "stdout",
     "output_type": "stream",
     "text": [
      "Accuracy: 0.02266666666666667\n",
      "Accuracy if all zero predicted:0.746\n",
      "\n",
      "Values and their occurance:\n",
      "Number: -4\n",
      "Occurance in Data:5\n",
      "Occurance in Prediction:0\n",
      "\n",
      "Number: -3\n",
      "Occurance in Data:20\n",
      "Occurance in Prediction:1071\n",
      "\n",
      "Number: -2\n",
      "Occurance in Data:62\n",
      "Occurance in Prediction:429\n",
      "\n",
      "Number: -1\n",
      "Occurance in Data:73\n",
      "Occurance in Prediction:0\n",
      "\n",
      "Number: 0\n",
      "Occurance in Data:1119\n",
      "Occurance in Prediction:0\n",
      "\n",
      "Number: 1\n",
      "Occurance in Data:101\n",
      "Occurance in Prediction:0\n",
      "\n",
      "Number: 2\n",
      "Occurance in Data:89\n",
      "Occurance in Prediction:0\n",
      "\n",
      "Number: 3\n",
      "Occurance in Data:24\n",
      "Occurance in Prediction:0\n",
      "\n",
      "Number: 4\n",
      "Occurance in Data:7\n",
      "Occurance in Prediction:0\n",
      "\n"
     ]
    }
   ],
   "source": [
    "calculate_accuracy(Xtrain, ytrain, adamParam)"
   ]
  },
  {
   "cell_type": "code",
   "execution_count": 35,
   "metadata": {},
   "outputs": [],
   "source": [
    "def softmax(x):\n",
    "    return np.exp(x) / np.sum(np.exp(x), axis=0) #because the 1/0 value is in vertical.\n",
    "\n",
    "def sigmoid(inputs):\n",
    "    op = 1/(1+np.exp(-inputs))\n",
    "    return op\n",
    "\n",
    "def sigmoid_derivative(Z):\n",
    "    s = sigmoid(Z)\n",
    "    calc = s*(1-s)\n",
    "    return calc"
   ]
  },
  {
   "cell_type": "code",
   "execution_count": 34,
   "metadata": {},
   "outputs": [],
   "source": [
    "y = np.array([[0,0,0,0,0],\n",
    "              [0,1,0,1,0],\n",
    "              [1,0,0,0,1],\n",
    "              [0,0,1,0,0]])\n",
    "\n",
    "Z = np.array([[0.5,-0.8,0.1,1,-0.5],\n",
    "              [0.6,0.8,0.2,1.2,0.2],\n",
    "              [0.7,0.7,0.2,0.3,0.5],\n",
    "              [-0.2,0.2,0.3,-4,0.1]])"
   ]
  },
  {
   "cell_type": "code",
   "execution_count": 36,
   "metadata": {},
   "outputs": [
    {
     "data": {
      "text/plain": [
       "array([[0.62245933, 0.31002552, 0.52497919, 0.73105858, 0.37754067],\n",
       "       [0.64565631, 0.68997448, 0.549834  , 0.76852478, 0.549834  ],\n",
       "       [0.66818777, 0.66818777, 0.549834  , 0.57444252, 0.62245933],\n",
       "       [0.450166  , 0.549834  , 0.57444252, 0.01798621, 0.52497919]])"
      ]
     },
     "execution_count": 36,
     "metadata": {},
     "output_type": "execute_result"
    }
   ],
   "source": [
    "sigmoid(Z)"
   ]
  },
  {
   "cell_type": "code",
   "execution_count": 37,
   "metadata": {},
   "outputs": [
    {
     "data": {
      "text/plain": [
       "array([[0.2615638 , 0.07602826, 0.22564477, 0.36700938, 0.13237751],\n",
       "       [0.28907271, 0.37657045, 0.24937604, 0.44826627, 0.26657557],\n",
       "       [0.31947475, 0.34073504, 0.24937604, 0.18225146, 0.35983938],\n",
       "       [0.12988874, 0.20666625, 0.27560315, 0.00247289, 0.24120755]])"
      ]
     },
     "execution_count": 37,
     "metadata": {},
     "output_type": "execute_result"
    }
   ],
   "source": [
    "softmax(Z)"
   ]
  },
  {
   "cell_type": "code",
   "execution_count": null,
   "metadata": {},
   "outputs": [],
   "source": [
    "def softmax_derivative(Z):\n",
    "    Z = Z.T\n",
    "    "
   ]
  },
  {
   "cell_type": "code",
   "execution_count": null,
   "metadata": {},
   "outputs": [],
   "source": []
  }
 ],
 "metadata": {
  "kernelspec": {
   "display_name": "Python 3",
   "language": "python",
   "name": "python3"
  },
  "language_info": {
   "codemirror_mode": {
    "name": "ipython",
    "version": 3
   },
   "file_extension": ".py",
   "mimetype": "text/x-python",
   "name": "python",
   "nbconvert_exporter": "python",
   "pygments_lexer": "ipython3",
   "version": "3.6.1"
  }
 },
 "nbformat": 4,
 "nbformat_minor": 2
}
