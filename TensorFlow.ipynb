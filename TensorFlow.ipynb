{
 "cells": [
  {
   "cell_type": "code",
   "execution_count": 1,
   "metadata": {
    "scrolled": true
   },
   "outputs": [
    {
     "name": "stderr",
     "output_type": "stream",
     "text": [
      "c:\\programdata\\anaconda3\\lib\\site-packages\\h5py\\__init__.py:36: FutureWarning: Conversion of the second argument of issubdtype from `float` to `np.floating` is deprecated. In future, it will be treated as `np.float64 == np.dtype(float).type`.\n",
      "  from ._conv import register_converters as _register_converters\n"
     ]
    }
   ],
   "source": [
    "import numpy as np\n",
    "import pandas as pd\n",
    "import matplotlib.pyplot as plt\n",
    "from data_utils import BasicFunctions, PriceFunctions\n",
    "import math\n",
    "import tensorflow as tf\n",
    "\n",
    "%matplotlib inline"
   ]
  },
  {
   "cell_type": "code",
   "execution_count": 2,
   "metadata": {},
   "outputs": [],
   "source": [
    "bf = BasicFunctions()\n",
    "pf = PriceFunctions()"
   ]
  },
  {
   "cell_type": "code",
   "execution_count": 3,
   "metadata": {},
   "outputs": [],
   "source": [
    "mean, std, pd_Xtrain, pd_ytrain, pd_Xtest, pd_ytest, Xtrain, ytrainOrig, Xtest, ytestOrig = pf.return_data()"
   ]
  },
  {
   "cell_type": "code",
   "execution_count": 4,
   "metadata": {},
   "outputs": [],
   "source": [
    "ytrain = bf.convert_to_one_hot(ytrainOrig, 9)\n",
    "ytest = bf.convert_to_one_hot(ytestOrig, 9)"
   ]
  },
  {
   "cell_type": "code",
   "execution_count": 5,
   "metadata": {},
   "outputs": [
    {
     "data": {
      "text/plain": [
       "(35923, 5)"
      ]
     },
     "execution_count": 5,
     "metadata": {},
     "output_type": "execute_result"
    }
   ],
   "source": [
    "Xtrain.shape"
   ]
  },
  {
   "cell_type": "code",
   "execution_count": 6,
   "metadata": {},
   "outputs": [],
   "source": [
    "def create_placeholders():\n",
    "    X = tf.placeholder(tf.float32, shape=(None, 5), name='X')\n",
    "    y = tf.placeholder(tf.int32, shape=(None, 9), name='y')\n",
    "    \n",
    "    return X,y"
   ]
  },
  {
   "cell_type": "code",
   "execution_count": 7,
   "metadata": {},
   "outputs": [],
   "source": [
    "def forward_propagation(X, training):\n",
    "    Z1 = tf.layers.dense(X, 12, name='Z1', kernel_initializer=tf.keras.initializers.he_normal(seed=1))\n",
    "    bn1 = tf.layers.batch_normalization(Z1, training=training, name='bn1')\n",
    "    ac1 = tf.nn.relu(bn1, name='ac1')\n",
    "    A1 = tf.layers.dropout(ac1, 0.3, name='A1')\n",
    "    \n",
    "    Z2 = tf.layers.dense(A1, 8, name='Z2', kernel_initializer=tf.keras.initializers.he_normal(seed=1))\n",
    "    bn2 = tf.layers.batch_normalization(Z2, training=training, name='bn2')\n",
    "    ac2 = tf.nn.relu(bn2, name='ac2')\n",
    "    A2 = tf.layers.dropout(ac2, 0.3, name='A2')\n",
    "    \n",
    "    Z3 = tf.layers.dense(A2, 9, name='Z3', kernel_initializer=tf.keras.initializers.he_normal(seed=1))\n",
    "    #AL = tf.nn.softmax(Z3)\n",
    "    return Z3"
   ]
  },
  {
   "cell_type": "code",
   "execution_count": 8,
   "metadata": {},
   "outputs": [],
   "source": [
    "def cost_function(AL, y):\n",
    "    cost = tf.reduce_mean(tf.nn.softmax_cross_entropy_with_logits_v2(labels=y, logits=AL))\n",
    "    return cost"
   ]
  },
  {
   "cell_type": "code",
   "execution_count": 9,
   "metadata": {},
   "outputs": [],
   "source": [
    "import os\n",
    "cwd = os.getcwd()\n",
    "\n",
    "from datetime import datetime\n",
    "now = datetime.utcnow().strftime(\"%Y%m%d%H%M%S\")\n",
    "root_logdir = \"tf_logs\"\n",
    "logdir = \"{}/run-{}/\".format(root_logdir, now)"
   ]
  },
  {
   "cell_type": "code",
   "execution_count": 24,
   "metadata": {
    "scrolled": false
   },
   "outputs": [
    {
     "name": "stdout",
     "output_type": "stream",
     "text": [
      "Iteration: 0 Cost: 2.725445032119751\n",
      "Iteration: 10 Cost: 2.2606911659240723\n",
      "Iteration: 20 Cost: 1.939623236656189\n",
      "Iteration: 30 Cost: 1.6958777904510498\n",
      "Iteration: 40 Cost: 1.5247739553451538\n",
      "Iteration: 50 Cost: 1.420241355895996\n",
      "Iteration: 60 Cost: 1.3144503831863403\n",
      "Iteration: 70 Cost: 1.240983009338379\n",
      "Iteration: 80 Cost: 1.1933889389038086\n",
      "Iteration: 90 Cost: 1.1564390659332275\n",
      "Iteration: 100 Cost: 1.1289771795272827\n",
      "Iteration: 110 Cost: 1.1066019535064697\n",
      "Iteration: 120 Cost: 1.087171196937561\n",
      "Iteration: 130 Cost: 1.0768533945083618\n",
      "Iteration: 140 Cost: 1.0698834657669067\n",
      "Iteration: 150 Cost: 1.064395546913147\n",
      "Iteration: 160 Cost: 1.060178518295288\n",
      "Iteration: 170 Cost: 1.056771159172058\n",
      "Iteration: 180 Cost: 1.0535979270935059\n",
      "Iteration: 190 Cost: 1.0502690076828003\n",
      "Iteration: 200 Cost: 1.043328046798706\n",
      "Iteration: 210 Cost: 1.0392589569091797\n",
      "Iteration: 220 Cost: 1.0345759391784668\n",
      "Iteration: 230 Cost: 1.0311589241027832\n",
      "Iteration: 240 Cost: 1.0274723768234253\n",
      "Iteration: 250 Cost: 1.024661660194397\n",
      "Iteration: 260 Cost: 1.022758960723877\n",
      "Iteration: 270 Cost: 1.0213264226913452\n",
      "Iteration: 280 Cost: 1.0201447010040283\n",
      "Iteration: 290 Cost: 1.019099473953247\n"
     ]
    },
    {
     "data": {
      "image/png": "[encoded data removed]",
      "text/plain": [
       "<matplotlib.figure.Figure at 0x1ecd12f3cc0>"
      ]
     },
     "metadata": {},
     "output_type": "display_data"
    }
   ],
   "source": [
    "tf.reset_default_graph()\n",
    "\n",
    "with tf.name_scope('Initialize'):\n",
    "    X, y = create_placeholders()\n",
    "    training = tf.placeholder(tf.bool, shape=(), name='training')\n",
    "    \n",
    "with tf.name_scope('ForwardPropagation'):\n",
    "    AL = forward_propagation(X, training)\n",
    "    \n",
    "with tf.name_scope('CostFunction'):\n",
    "    cost = cost_function(AL, ytrain)\n",
    "    \n",
    "with tf.name_scope('BackPropagation'):\n",
    "    optimizer = tf.train.AdamOptimizer(learning_rate=0.005).minimize(cost)\n",
    "    \n",
    "init = tf.global_variables_initializer()\n",
    "\n",
    "cost_summary = tf.summary.scalar('Cost', cost)\n",
    "file_writer = tf.summary.FileWriter(logdir, tf.get_default_graph())\n",
    "\n",
    "costs = []\n",
    "\n",
    "with tf.Session() as sess:\n",
    "    sess.run(init)\n",
    "    mini_batches = bf.initialize_mini_batch(Xtrain, ytrain, batchsize=64)\n",
    "    \n",
    "    for i in range(300):\n",
    "        for batch in mini_batches:\n",
    "            (Xbatch, ybatch) = batch\n",
    "            sess.run(optimizer, feed_dict={X: Xbatch, y: ybatch, training: True})\n",
    "            \n",
    "        if (i % 10 == 0):\n",
    "            cost_str = cost_summary.eval(feed_dict={X: Xbatch, y: ybatch, training: True})\n",
    "            costeval = cost.eval(feed_dict={X: Xbatch, y: ybatch, training: True}) #this line is being repeated\n",
    "            costs.append(costeval)\n",
    "            print(\"Iteration: {} Cost: {}\".format(i, costeval))\n",
    "            \n",
    "            file_writer.add_summary(cost_str, i)\n",
    "            \n",
    "    \n",
    "    saver = tf.train.Saver()\n",
    "    saver.save(sess, cwd + '/tf_logs/session/session.chkp')\n",
    "    file_writer.close()\n",
    "    \n",
    "bf.single_plot(costs, log=False)"
   ]
  },
  {
   "cell_type": "code",
   "execution_count": 16,
   "metadata": {},
   "outputs": [],
   "source": [
    "def calculate_accuracy(y, AL):\n",
    "    ALVals = AL.argmax(axis=1) - 4\n",
    "    yVals = y.argmax(axis=1) - 4\n",
    "    \n",
    "    accurate = np.sum(yVals == ALVals)\n",
    "    accuracy = accurate/yVals.shape[0]\n",
    "    print(\"Accuracy: \" + str(accuracy))\n",
    "    print(\"Accuracy if all zero predicted:\" + str(np.sum(yVals == 0)/yVals.shape[0]))\n",
    "    \n",
    "    print(\"\\nValues and their occurance:\")\n",
    "    \n",
    "    for i in range(-4,5):\n",
    "        print(\"Number: \" + str(i))\n",
    "        print(\"Occurance in Data:\" +  str(np.sum(yVals == i)))\n",
    "        print(\"Occurance in Prediction:\" +  str(np.sum(ALVals == i)))\n",
    "        print()"
   ]
  },
  {
   "cell_type": "code",
   "execution_count": 27,
   "metadata": {},
   "outputs": [
    {
     "name": "stdout",
     "output_type": "stream",
     "text": [
      "INFO:tensorflow:Restoring parameters from C:\\Users\\User\\Desktop\\Dissertation\\CryptoPredictor/tf_logs/session/session.chkp\n",
      "Accuracy: 0.7125518470060964\n",
      "Accuracy if all zero predicted:0.7270272527350166\n",
      "\n",
      "Values and their occurance:\n",
      "Number: -4\n",
      "Occurance in Data:223\n",
      "Occurance in Prediction:0\n",
      "\n",
      "Number: -3\n",
      "Occurance in Data:679\n",
      "Occurance in Prediction:0\n",
      "\n",
      "Number: -2\n",
      "Occurance in Data:1533\n",
      "Occurance in Prediction:0\n",
      "\n",
      "Number: -1\n",
      "Occurance in Data:1935\n",
      "Occurance in Prediction:0\n",
      "\n",
      "Number: 0\n",
      "Occurance in Data:26117\n",
      "Occurance in Prediction:34766\n",
      "\n",
      "Number: 1\n",
      "Occurance in Data:2685\n",
      "Occurance in Prediction:0\n",
      "\n",
      "Number: 2\n",
      "Occurance in Data:2045\n",
      "Occurance in Prediction:1157\n",
      "\n",
      "Number: 3\n",
      "Occurance in Data:605\n",
      "Occurance in Prediction:0\n",
      "\n",
      "Number: 4\n",
      "Occurance in Data:101\n",
      "Occurance in Prediction:0\n",
      "\n"
     ]
    }
   ],
   "source": [
    "with tf.Session() as sess:\n",
    "    saver = tf.train.Saver()\n",
    "    saver.restore(sess, cwd + '/tf_logs/session/session.chkp')\n",
    "    \n",
    "    Z = sess.run(AL, feed_dict={X: Xtrain, training: False})\n",
    "    ALast = tf.nn.softmax(Z).eval()\n",
    "    \n",
    "    calculate_accuracy(ytrain, ALast)"
   ]
  },
  {
   "cell_type": "code",
   "execution_count": 11,
   "metadata": {},
   "outputs": [],
   "source": [
    "#fix the issues with cost then calculate accuracy. Then backtest. Then TA. Then twitter, reddit."
   ]
  }
 ],
 "metadata": {
  "kernelspec": {
   "display_name": "Python 3",
   "language": "python",
   "name": "python3"
  },
  "language_info": {
   "codemirror_mode": {
    "name": "ipython",
    "version": 3
   },
   "file_extension": ".py",
   "mimetype": "text/x-python",
   "name": "python",
   "nbconvert_exporter": "python",
   "pygments_lexer": "ipython3",
   "version": "3.6.1"
  }
 },
 "nbformat": 4,
 "nbformat_minor": 2
}
