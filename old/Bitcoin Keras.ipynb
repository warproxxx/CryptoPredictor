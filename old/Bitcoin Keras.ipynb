{
 "cells": [
  {
   "cell_type": "code",
   "execution_count": 1,
   "metadata": {},
   "outputs": [
    {
     "name": "stderr",
     "output_type": "stream",
     "text": [
      "c:\\programdata\\anaconda3\\lib\\site-packages\\h5py\\__init__.py:36: FutureWarning: Conversion of the second argument of issubdtype from `float` to `np.floating` is deprecated. In future, it will be treated as `np.float64 == np.dtype(float).type`.\n",
      "  from ._conv import register_converters as _register_converters\n",
      "Using TensorFlow backend.\n"
     ]
    }
   ],
   "source": [
    "import numpy as np\n",
    "import pandas as pd\n",
    "import matplotlib.pyplot as plt\n",
    "from cp_common import process_price_data as cpc\n",
    "from cp_scratch import network_fundamentals as cpsn\n",
    "from cp_scratch import basic_functions as cpsb\n",
    "%matplotlib inline\n",
    "import math\n",
    "\n",
    "from keras.models import Sequential\n",
    "from keras.layers import Dense, Dropout, BatchNormalization\n",
    "from keras import initializers, regularizers "
   ]
  },
  {
   "cell_type": "code",
   "execution_count": 2,
   "metadata": {
    "scrolled": true
   },
   "outputs": [
    {
     "name": "stdout",
     "output_type": "stream",
     "text": [
      "Loaded BCHARTS/BITFINEXUSD from cache\n",
      "Loaded BCHARTS/COINBASEUSD from cache\n"
     ]
    }
   ],
   "source": [
    "mean, std, pd_Xtrain, pd_ytrain, pd_Xtest, pd_ytest, Xtrain, ytrainOrig, Xtest, ytestOrig = cpc.return_data(andrewEncoding=False)"
   ]
  },
  {
   "cell_type": "code",
   "execution_count": 10,
   "metadata": {},
   "outputs": [
    {
     "ename": "KeyError",
     "evalue": "'Date'",
     "output_type": "error",
     "traceback": [
      "\u001b[1;31m---------------------------------------------------------------------------\u001b[0m",
      "\u001b[1;31mKeyError\u001b[0m                                  Traceback (most recent call last)",
      "\u001b[1;32mc:\\programdata\\anaconda3\\lib\\site-packages\\pandas\\core\\indexes\\base.py\u001b[0m in \u001b[0;36mget_loc\u001b[1;34m(self, key, method, tolerance)\u001b[0m\n\u001b[0;32m   2524\u001b[0m             \u001b[1;32mtry\u001b[0m\u001b[1;33m:\u001b[0m\u001b[1;33m\u001b[0m\u001b[0m\n\u001b[1;32m-> 2525\u001b[1;33m                 \u001b[1;32mreturn\u001b[0m \u001b[0mself\u001b[0m\u001b[1;33m.\u001b[0m\u001b[0m_engine\u001b[0m\u001b[1;33m.\u001b[0m\u001b[0mget_loc\u001b[0m\u001b[1;33m(\u001b[0m\u001b[0mkey\u001b[0m\u001b[1;33m)\u001b[0m\u001b[1;33m\u001b[0m\u001b[0m\n\u001b[0m\u001b[0;32m   2526\u001b[0m             \u001b[1;32mexcept\u001b[0m \u001b[0mKeyError\u001b[0m\u001b[1;33m:\u001b[0m\u001b[1;33m\u001b[0m\u001b[0m\n",
      "\u001b[1;32mpandas/_libs/index.pyx\u001b[0m in \u001b[0;36mpandas._libs.index.IndexEngine.get_loc\u001b[1;34m()\u001b[0m\n",
      "\u001b[1;32mpandas/_libs/index.pyx\u001b[0m in \u001b[0;36mpandas._libs.index.IndexEngine.get_loc\u001b[1;34m()\u001b[0m\n",
      "\u001b[1;32mpandas/_libs/hashtable_class_helper.pxi\u001b[0m in \u001b[0;36mpandas._libs.hashtable.PyObjectHashTable.get_item\u001b[1;34m()\u001b[0m\n",
      "\u001b[1;32mpandas/_libs/hashtable_class_helper.pxi\u001b[0m in \u001b[0;36mpandas._libs.hashtable.PyObjectHashTable.get_item\u001b[1;34m()\u001b[0m\n",
      "\u001b[1;31mKeyError\u001b[0m: 'Date'",
      "\nDuring handling of the above exception, another exception occurred:\n",
      "\u001b[1;31mKeyError\u001b[0m                                  Traceback (most recent call last)",
      "\u001b[1;32m<ipython-input-10-b3d77c06d1ac>\u001b[0m in \u001b[0;36m<module>\u001b[1;34m()\u001b[0m\n\u001b[1;32m----> 1\u001b[1;33m \u001b[0mpd\u001b[0m\u001b[1;33m.\u001b[0m\u001b[0mmerge\u001b[0m\u001b[1;33m(\u001b[0m\u001b[0mpd_Xtrain\u001b[0m\u001b[1;33m,\u001b[0m \u001b[0mpd_ytrain\u001b[0m\u001b[1;33m,\u001b[0m \u001b[0mleft_on\u001b[0m\u001b[1;33m=\u001b[0m\u001b[1;34m'Date'\u001b[0m\u001b[1;33m,\u001b[0m \u001b[0mright_on\u001b[0m\u001b[1;33m=\u001b[0m\u001b[1;34m'Date'\u001b[0m\u001b[1;33m)\u001b[0m\u001b[1;33m\u001b[0m\u001b[0m\n\u001b[0m",
      "\u001b[1;32mc:\\programdata\\anaconda3\\lib\\site-packages\\pandas\\core\\reshape\\merge.py\u001b[0m in \u001b[0;36mmerge\u001b[1;34m(left, right, how, on, left_on, right_on, left_index, right_index, sort, suffixes, copy, indicator, validate)\u001b[0m\n\u001b[0;32m     55\u001b[0m                          \u001b[0mright_index\u001b[0m\u001b[1;33m=\u001b[0m\u001b[0mright_index\u001b[0m\u001b[1;33m,\u001b[0m \u001b[0msort\u001b[0m\u001b[1;33m=\u001b[0m\u001b[0msort\u001b[0m\u001b[1;33m,\u001b[0m \u001b[0msuffixes\u001b[0m\u001b[1;33m=\u001b[0m\u001b[0msuffixes\u001b[0m\u001b[1;33m,\u001b[0m\u001b[1;33m\u001b[0m\u001b[0m\n\u001b[0;32m     56\u001b[0m                          \u001b[0mcopy\u001b[0m\u001b[1;33m=\u001b[0m\u001b[0mcopy\u001b[0m\u001b[1;33m,\u001b[0m \u001b[0mindicator\u001b[0m\u001b[1;33m=\u001b[0m\u001b[0mindicator\u001b[0m\u001b[1;33m,\u001b[0m\u001b[1;33m\u001b[0m\u001b[0m\n\u001b[1;32m---> 57\u001b[1;33m                          validate=validate)\n\u001b[0m\u001b[0;32m     58\u001b[0m     \u001b[1;32mreturn\u001b[0m \u001b[0mop\u001b[0m\u001b[1;33m.\u001b[0m\u001b[0mget_result\u001b[0m\u001b[1;33m(\u001b[0m\u001b[1;33m)\u001b[0m\u001b[1;33m\u001b[0m\u001b[0m\n\u001b[0;32m     59\u001b[0m \u001b[1;33m\u001b[0m\u001b[0m\n",
      "\u001b[1;32mc:\\programdata\\anaconda3\\lib\\site-packages\\pandas\\core\\reshape\\merge.py\u001b[0m in \u001b[0;36m__init__\u001b[1;34m(self, left, right, how, on, left_on, right_on, axis, left_index, right_index, sort, suffixes, copy, indicator, validate)\u001b[0m\n\u001b[0;32m    563\u001b[0m         (self.left_join_keys,\n\u001b[0;32m    564\u001b[0m          \u001b[0mself\u001b[0m\u001b[1;33m.\u001b[0m\u001b[0mright_join_keys\u001b[0m\u001b[1;33m,\u001b[0m\u001b[1;33m\u001b[0m\u001b[0m\n\u001b[1;32m--> 565\u001b[1;33m          self.join_names) = self._get_merge_keys()\n\u001b[0m\u001b[0;32m    566\u001b[0m \u001b[1;33m\u001b[0m\u001b[0m\n\u001b[0;32m    567\u001b[0m         \u001b[1;31m# validate the merge keys dtypes. We may need to coerce\u001b[0m\u001b[1;33m\u001b[0m\u001b[1;33m\u001b[0m\u001b[0m\n",
      "\u001b[1;32mc:\\programdata\\anaconda3\\lib\\site-packages\\pandas\\core\\reshape\\merge.py\u001b[0m in \u001b[0;36m_get_merge_keys\u001b[1;34m(self)\u001b[0m\n\u001b[0;32m    822\u001b[0m                     \u001b[1;32mif\u001b[0m \u001b[1;32mnot\u001b[0m \u001b[0mis_rkey\u001b[0m\u001b[1;33m(\u001b[0m\u001b[0mrk\u001b[0m\u001b[1;33m)\u001b[0m\u001b[1;33m:\u001b[0m\u001b[1;33m\u001b[0m\u001b[0m\n\u001b[0;32m    823\u001b[0m                         \u001b[1;32mif\u001b[0m \u001b[0mrk\u001b[0m \u001b[1;32mis\u001b[0m \u001b[1;32mnot\u001b[0m \u001b[1;32mNone\u001b[0m\u001b[1;33m:\u001b[0m\u001b[1;33m\u001b[0m\u001b[0m\n\u001b[1;32m--> 824\u001b[1;33m                             \u001b[0mright_keys\u001b[0m\u001b[1;33m.\u001b[0m\u001b[0mappend\u001b[0m\u001b[1;33m(\u001b[0m\u001b[0mright\u001b[0m\u001b[1;33m[\u001b[0m\u001b[0mrk\u001b[0m\u001b[1;33m]\u001b[0m\u001b[1;33m.\u001b[0m\u001b[0m_values\u001b[0m\u001b[1;33m)\u001b[0m\u001b[1;33m\u001b[0m\u001b[0m\n\u001b[0m\u001b[0;32m    825\u001b[0m                         \u001b[1;32melse\u001b[0m\u001b[1;33m:\u001b[0m\u001b[1;33m\u001b[0m\u001b[0m\n\u001b[0;32m    826\u001b[0m                             \u001b[1;31m# work-around for merge_asof(right_index=True)\u001b[0m\u001b[1;33m\u001b[0m\u001b[1;33m\u001b[0m\u001b[0m\n",
      "\u001b[1;32mc:\\programdata\\anaconda3\\lib\\site-packages\\pandas\\core\\frame.py\u001b[0m in \u001b[0;36m__getitem__\u001b[1;34m(self, key)\u001b[0m\n\u001b[0;32m   2137\u001b[0m             \u001b[1;32mreturn\u001b[0m \u001b[0mself\u001b[0m\u001b[1;33m.\u001b[0m\u001b[0m_getitem_multilevel\u001b[0m\u001b[1;33m(\u001b[0m\u001b[0mkey\u001b[0m\u001b[1;33m)\u001b[0m\u001b[1;33m\u001b[0m\u001b[0m\n\u001b[0;32m   2138\u001b[0m         \u001b[1;32melse\u001b[0m\u001b[1;33m:\u001b[0m\u001b[1;33m\u001b[0m\u001b[0m\n\u001b[1;32m-> 2139\u001b[1;33m             \u001b[1;32mreturn\u001b[0m \u001b[0mself\u001b[0m\u001b[1;33m.\u001b[0m\u001b[0m_getitem_column\u001b[0m\u001b[1;33m(\u001b[0m\u001b[0mkey\u001b[0m\u001b[1;33m)\u001b[0m\u001b[1;33m\u001b[0m\u001b[0m\n\u001b[0m\u001b[0;32m   2140\u001b[0m \u001b[1;33m\u001b[0m\u001b[0m\n\u001b[0;32m   2141\u001b[0m     \u001b[1;32mdef\u001b[0m \u001b[0m_getitem_column\u001b[0m\u001b[1;33m(\u001b[0m\u001b[0mself\u001b[0m\u001b[1;33m,\u001b[0m \u001b[0mkey\u001b[0m\u001b[1;33m)\u001b[0m\u001b[1;33m:\u001b[0m\u001b[1;33m\u001b[0m\u001b[0m\n",
      "\u001b[1;32mc:\\programdata\\anaconda3\\lib\\site-packages\\pandas\\core\\frame.py\u001b[0m in \u001b[0;36m_getitem_column\u001b[1;34m(self, key)\u001b[0m\n\u001b[0;32m   2144\u001b[0m         \u001b[1;31m# get column\u001b[0m\u001b[1;33m\u001b[0m\u001b[1;33m\u001b[0m\u001b[0m\n\u001b[0;32m   2145\u001b[0m         \u001b[1;32mif\u001b[0m \u001b[0mself\u001b[0m\u001b[1;33m.\u001b[0m\u001b[0mcolumns\u001b[0m\u001b[1;33m.\u001b[0m\u001b[0mis_unique\u001b[0m\u001b[1;33m:\u001b[0m\u001b[1;33m\u001b[0m\u001b[0m\n\u001b[1;32m-> 2146\u001b[1;33m             \u001b[1;32mreturn\u001b[0m \u001b[0mself\u001b[0m\u001b[1;33m.\u001b[0m\u001b[0m_get_item_cache\u001b[0m\u001b[1;33m(\u001b[0m\u001b[0mkey\u001b[0m\u001b[1;33m)\u001b[0m\u001b[1;33m\u001b[0m\u001b[0m\n\u001b[0m\u001b[0;32m   2147\u001b[0m \u001b[1;33m\u001b[0m\u001b[0m\n\u001b[0;32m   2148\u001b[0m         \u001b[1;31m# duplicate columns & possible reduce dimensionality\u001b[0m\u001b[1;33m\u001b[0m\u001b[1;33m\u001b[0m\u001b[0m\n",
      "\u001b[1;32mc:\\programdata\\anaconda3\\lib\\site-packages\\pandas\\core\\generic.py\u001b[0m in \u001b[0;36m_get_item_cache\u001b[1;34m(self, item)\u001b[0m\n\u001b[0;32m   1840\u001b[0m         \u001b[0mres\u001b[0m \u001b[1;33m=\u001b[0m \u001b[0mcache\u001b[0m\u001b[1;33m.\u001b[0m\u001b[0mget\u001b[0m\u001b[1;33m(\u001b[0m\u001b[0mitem\u001b[0m\u001b[1;33m)\u001b[0m\u001b[1;33m\u001b[0m\u001b[0m\n\u001b[0;32m   1841\u001b[0m         \u001b[1;32mif\u001b[0m \u001b[0mres\u001b[0m \u001b[1;32mis\u001b[0m \u001b[1;32mNone\u001b[0m\u001b[1;33m:\u001b[0m\u001b[1;33m\u001b[0m\u001b[0m\n\u001b[1;32m-> 1842\u001b[1;33m             \u001b[0mvalues\u001b[0m \u001b[1;33m=\u001b[0m \u001b[0mself\u001b[0m\u001b[1;33m.\u001b[0m\u001b[0m_data\u001b[0m\u001b[1;33m.\u001b[0m\u001b[0mget\u001b[0m\u001b[1;33m(\u001b[0m\u001b[0mitem\u001b[0m\u001b[1;33m)\u001b[0m\u001b[1;33m\u001b[0m\u001b[0m\n\u001b[0m\u001b[0;32m   1843\u001b[0m             \u001b[0mres\u001b[0m \u001b[1;33m=\u001b[0m \u001b[0mself\u001b[0m\u001b[1;33m.\u001b[0m\u001b[0m_box_item_values\u001b[0m\u001b[1;33m(\u001b[0m\u001b[0mitem\u001b[0m\u001b[1;33m,\u001b[0m \u001b[0mvalues\u001b[0m\u001b[1;33m)\u001b[0m\u001b[1;33m\u001b[0m\u001b[0m\n\u001b[0;32m   1844\u001b[0m             \u001b[0mcache\u001b[0m\u001b[1;33m[\u001b[0m\u001b[0mitem\u001b[0m\u001b[1;33m]\u001b[0m \u001b[1;33m=\u001b[0m \u001b[0mres\u001b[0m\u001b[1;33m\u001b[0m\u001b[0m\n",
      "\u001b[1;32mc:\\programdata\\anaconda3\\lib\\site-packages\\pandas\\core\\internals.py\u001b[0m in \u001b[0;36mget\u001b[1;34m(self, item, fastpath)\u001b[0m\n\u001b[0;32m   3841\u001b[0m \u001b[1;33m\u001b[0m\u001b[0m\n\u001b[0;32m   3842\u001b[0m             \u001b[1;32mif\u001b[0m \u001b[1;32mnot\u001b[0m \u001b[0misna\u001b[0m\u001b[1;33m(\u001b[0m\u001b[0mitem\u001b[0m\u001b[1;33m)\u001b[0m\u001b[1;33m:\u001b[0m\u001b[1;33m\u001b[0m\u001b[0m\n\u001b[1;32m-> 3843\u001b[1;33m                 \u001b[0mloc\u001b[0m \u001b[1;33m=\u001b[0m \u001b[0mself\u001b[0m\u001b[1;33m.\u001b[0m\u001b[0mitems\u001b[0m\u001b[1;33m.\u001b[0m\u001b[0mget_loc\u001b[0m\u001b[1;33m(\u001b[0m\u001b[0mitem\u001b[0m\u001b[1;33m)\u001b[0m\u001b[1;33m\u001b[0m\u001b[0m\n\u001b[0m\u001b[0;32m   3844\u001b[0m             \u001b[1;32melse\u001b[0m\u001b[1;33m:\u001b[0m\u001b[1;33m\u001b[0m\u001b[0m\n\u001b[0;32m   3845\u001b[0m                 \u001b[0mindexer\u001b[0m \u001b[1;33m=\u001b[0m \u001b[0mnp\u001b[0m\u001b[1;33m.\u001b[0m\u001b[0marange\u001b[0m\u001b[1;33m(\u001b[0m\u001b[0mlen\u001b[0m\u001b[1;33m(\u001b[0m\u001b[0mself\u001b[0m\u001b[1;33m.\u001b[0m\u001b[0mitems\u001b[0m\u001b[1;33m)\u001b[0m\u001b[1;33m)\u001b[0m\u001b[1;33m[\u001b[0m\u001b[0misna\u001b[0m\u001b[1;33m(\u001b[0m\u001b[0mself\u001b[0m\u001b[1;33m.\u001b[0m\u001b[0mitems\u001b[0m\u001b[1;33m)\u001b[0m\u001b[1;33m]\u001b[0m\u001b[1;33m\u001b[0m\u001b[0m\n",
      "\u001b[1;32mc:\\programdata\\anaconda3\\lib\\site-packages\\pandas\\core\\indexes\\base.py\u001b[0m in \u001b[0;36mget_loc\u001b[1;34m(self, key, method, tolerance)\u001b[0m\n\u001b[0;32m   2525\u001b[0m                 \u001b[1;32mreturn\u001b[0m \u001b[0mself\u001b[0m\u001b[1;33m.\u001b[0m\u001b[0m_engine\u001b[0m\u001b[1;33m.\u001b[0m\u001b[0mget_loc\u001b[0m\u001b[1;33m(\u001b[0m\u001b[0mkey\u001b[0m\u001b[1;33m)\u001b[0m\u001b[1;33m\u001b[0m\u001b[0m\n\u001b[0;32m   2526\u001b[0m             \u001b[1;32mexcept\u001b[0m \u001b[0mKeyError\u001b[0m\u001b[1;33m:\u001b[0m\u001b[1;33m\u001b[0m\u001b[0m\n\u001b[1;32m-> 2527\u001b[1;33m                 \u001b[1;32mreturn\u001b[0m \u001b[0mself\u001b[0m\u001b[1;33m.\u001b[0m\u001b[0m_engine\u001b[0m\u001b[1;33m.\u001b[0m\u001b[0mget_loc\u001b[0m\u001b[1;33m(\u001b[0m\u001b[0mself\u001b[0m\u001b[1;33m.\u001b[0m\u001b[0m_maybe_cast_indexer\u001b[0m\u001b[1;33m(\u001b[0m\u001b[0mkey\u001b[0m\u001b[1;33m)\u001b[0m\u001b[1;33m)\u001b[0m\u001b[1;33m\u001b[0m\u001b[0m\n\u001b[0m\u001b[0;32m   2528\u001b[0m \u001b[1;33m\u001b[0m\u001b[0m\n\u001b[0;32m   2529\u001b[0m         \u001b[0mindexer\u001b[0m \u001b[1;33m=\u001b[0m \u001b[0mself\u001b[0m\u001b[1;33m.\u001b[0m\u001b[0mget_indexer\u001b[0m\u001b[1;33m(\u001b[0m\u001b[1;33m[\u001b[0m\u001b[0mkey\u001b[0m\u001b[1;33m]\u001b[0m\u001b[1;33m,\u001b[0m \u001b[0mmethod\u001b[0m\u001b[1;33m=\u001b[0m\u001b[0mmethod\u001b[0m\u001b[1;33m,\u001b[0m \u001b[0mtolerance\u001b[0m\u001b[1;33m=\u001b[0m\u001b[0mtolerance\u001b[0m\u001b[1;33m)\u001b[0m\u001b[1;33m\u001b[0m\u001b[0m\n",
      "\u001b[1;32mpandas/_libs/index.pyx\u001b[0m in \u001b[0;36mpandas._libs.index.IndexEngine.get_loc\u001b[1;34m()\u001b[0m\n",
      "\u001b[1;32mpandas/_libs/index.pyx\u001b[0m in \u001b[0;36mpandas._libs.index.IndexEngine.get_loc\u001b[1;34m()\u001b[0m\n",
      "\u001b[1;32mpandas/_libs/hashtable_class_helper.pxi\u001b[0m in \u001b[0;36mpandas._libs.hashtable.PyObjectHashTable.get_item\u001b[1;34m()\u001b[0m\n",
      "\u001b[1;32mpandas/_libs/hashtable_class_helper.pxi\u001b[0m in \u001b[0;36mpandas._libs.hashtable.PyObjectHashTable.get_item\u001b[1;34m()\u001b[0m\n",
      "\u001b[1;31mKeyError\u001b[0m: 'Date'"
     ]
    }
   ],
   "source": [
    "pd_Xtrain.to_csv(header='')"
   ]
  },
  {
   "cell_type": "code",
   "execution_count": 3,
   "metadata": {},
   "outputs": [],
   "source": [
    "ytrain = cpsb.convert_to_one_hot(ytrainOrig, 9, andrewEncoding=False)\n",
    "ytest = cpsb.convert_to_one_hot(ytestOrig, 9, andrewEncoding=False)"
   ]
  },
  {
   "cell_type": "code",
   "execution_count": 4,
   "metadata": {},
   "outputs": [
    {
     "name": "stdout",
     "output_type": "stream",
     "text": [
      "(1500, 7)\n",
      "(1500, 1)\n",
      "(1500, 9)\n",
      "\n",
      "(156, 7)\n",
      "(156, 1)\n",
      "(156, 9)\n"
     ]
    }
   ],
   "source": [
    "print(Xtrain.shape)\n",
    "print(ytrainOrig.shape)\n",
    "print(ytrain.shape)\n",
    "print()\n",
    "print(Xtest.shape)\n",
    "print(ytestOrig.shape)\n",
    "print(ytest.shape)"
   ]
  },
  {
   "cell_type": "code",
   "execution_count": 168,
   "metadata": {},
   "outputs": [],
   "source": [
    "model = Sequential()\n",
    "model.add(Dense(10, activation='relu', input_shape=(7,), kernel_initializer=initializers.he_normal(seed=1), kernel_regularizer=regularizers.l2(0.007)))#10 is the first layer\n",
    "model.add(BatchNormalization()) \n",
    "model.add(Dropout(0.3))\n",
    "\n",
    "model.add(Dense(8, activation='relu', kernel_initializer=initializers.he_normal(seed=1), kernel_regularizer=regularizers.l2(0.007)))\n",
    "model.add(BatchNormalization()) \n",
    "model.add(Dropout(0.3))\n",
    "\n",
    "model.add(Dense(7, activation='relu', kernel_initializer=initializers.he_normal(seed=1), kernel_regularizer=regularizers.l2(0.007)))\n",
    "model.add(BatchNormalization()) \n",
    "model.add(Dropout(0.3))\n",
    "\n",
    "model.add(Dense(9, activation='softmax'))"
   ]
  },
  {
   "cell_type": "code",
   "execution_count": 169,
   "metadata": {
    "scrolled": true
   },
   "outputs": [
    {
     "name": "stdout",
     "output_type": "stream",
     "text": [
      "Train on 1500 samples, validate on 156 samples\n",
      "Epoch 1/25\n",
      "1500/1500 [==============================] - 6s 4ms/step - loss: 2.8924 - acc: 0.0973 - val_loss: 6.4363 - val_acc: 0.1218\n",
      "Epoch 2/25\n",
      "1500/1500 [==============================] - 0s 141us/step - loss: 2.8215 - acc: 0.1173 - val_loss: 7.0911 - val_acc: 0.1218\n",
      "Epoch 3/25\n",
      "1500/1500 [==============================] - 0s 138us/step - loss: 2.7048 - acc: 0.1400 - val_loss: 7.7234 - val_acc: 0.1218\n",
      "Epoch 4/25\n",
      "1500/1500 [==============================] - 0s 124us/step - loss: 2.6967 - acc: 0.1740 - val_loss: 8.3214 - val_acc: 0.1218\n",
      "Epoch 5/25\n",
      "1500/1500 [==============================] - 0s 134us/step - loss: 2.6732 - acc: 0.1993 - val_loss: 8.6945 - val_acc: 0.1218\n",
      "Epoch 6/25\n",
      "1500/1500 [==============================] - 0s 127us/step - loss: 2.5780 - acc: 0.2287 - val_loss: 8.7460 - val_acc: 0.1218\n",
      "Epoch 7/25\n",
      "1500/1500 [==============================] - 0s 118us/step - loss: 2.5322 - acc: 0.2687 - val_loss: 8.8082 - val_acc: 0.1218\n",
      "Epoch 8/25\n",
      "1500/1500 [==============================] - 0s 108us/step - loss: 2.4769 - acc: 0.2947 - val_loss: 8.8365 - val_acc: 0.1218\n",
      "Epoch 9/25\n",
      "1500/1500 [==============================] - 0s 113us/step - loss: 2.4427 - acc: 0.3540 - val_loss: 8.6589 - val_acc: 0.1218\n",
      "Epoch 10/25\n",
      "1500/1500 [==============================] - 0s 118us/step - loss: 2.3823 - acc: 0.3860 - val_loss: 8.3985 - val_acc: 0.1218\n",
      "Epoch 11/25\n",
      "1500/1500 [==============================] - 0s 118us/step - loss: 2.2931 - acc: 0.4367 - val_loss: 8.2487 - val_acc: 0.1218\n",
      "Epoch 12/25\n",
      "1500/1500 [==============================] - 0s 124us/step - loss: 2.2545 - acc: 0.4853 - val_loss: 8.0414 - val_acc: 0.1218\n",
      "Epoch 13/25\n",
      "1500/1500 [==============================] - 0s 128us/step - loss: 2.2281 - acc: 0.4887 - val_loss: 8.0892 - val_acc: 0.1218\n",
      "Epoch 14/25\n",
      "1500/1500 [==============================] - 0s 133us/step - loss: 2.1750 - acc: 0.5353 - val_loss: 7.8133 - val_acc: 0.1218\n",
      "Epoch 15/25\n",
      "1500/1500 [==============================] - 0s 111us/step - loss: 2.1175 - acc: 0.5593 - val_loss: 7.5335 - val_acc: 0.1218\n",
      "Epoch 16/25\n",
      "1500/1500 [==============================] - 0s 123us/step - loss: 2.1086 - acc: 0.5633 - val_loss: 7.3811 - val_acc: 0.1218\n",
      "Epoch 17/25\n",
      "1500/1500 [==============================] - 0s 117us/step - loss: 2.0537 - acc: 0.5887 - val_loss: 7.2853 - val_acc: 0.1218\n",
      "Epoch 18/25\n",
      "1500/1500 [==============================] - 0s 130us/step - loss: 2.0085 - acc: 0.6020 - val_loss: 7.0389 - val_acc: 0.1218\n",
      "Epoch 19/25\n",
      "1500/1500 [==============================] - 0s 138us/step - loss: 1.9500 - acc: 0.6187 - val_loss: 6.4470 - val_acc: 0.1218\n",
      "Epoch 20/25\n",
      "1500/1500 [==============================] - 0s 116us/step - loss: 1.8912 - acc: 0.6407 - val_loss: 6.1297 - val_acc: 0.1218\n",
      "Epoch 21/25\n",
      "1500/1500 [==============================] - 0s 121us/step - loss: 1.8847 - acc: 0.6520 - val_loss: 6.1072 - val_acc: 0.1218\n",
      "Epoch 22/25\n",
      "1500/1500 [==============================] - 0s 125us/step - loss: 1.8655 - acc: 0.6547 - val_loss: 5.9811 - val_acc: 0.1218\n",
      "Epoch 23/25\n",
      "1500/1500 [==============================] - 0s 138us/step - loss: 1.7747 - acc: 0.6613 - val_loss: 5.0604 - val_acc: 0.1603\n",
      "Epoch 24/25\n",
      "1500/1500 [==============================] - 0s 127us/step - loss: 1.7240 - acc: 0.6767 - val_loss: 4.7274 - val_acc: 0.2051\n",
      "Epoch 25/25\n",
      "1500/1500 [==============================] - 0s 128us/step - loss: 1.7372 - acc: 0.6713 - val_loss: 5.6739 - val_acc: 0.1218\n"
     ]
    }
   ],
   "source": [
    "model.compile(optimizer='adam',\n",
    "              loss='categorical_crossentropy',\n",
    "              metrics=['accuracy']) #using softmax or sigmoid dosen't make big difference\n",
    "\n",
    "history = model.fit(Xtrain, ytrain, epochs=25, batch_size=128, verbose=1, validation_data=(Xtest, ytest))"
   ]
  },
  {
   "cell_type": "code",
   "execution_count": 170,
   "metadata": {},
   "outputs": [
    {
     "data": {
      "text/plain": [
       "<matplotlib.legend.Legend at 0x1a75c1a3da0>"
      ]
     },
     "execution_count": 170,
     "metadata": {},
     "output_type": "execute_result"
    },
    {
     "data": {
      "image/png": "[encoded data removed]",
      "text/plain": [
       "<matplotlib.figure.Figure at 0x1a75b6b7550>"
      ]
     },
     "metadata": {},
     "output_type": "display_data"
    }
   ],
   "source": [
    "fig, axes = plt.subplots(figsize=(12,8))\n",
    "axes.plot(history.history['loss'])\n",
    "axes.plot(history.history['val_loss'])\n",
    "axes.set_title('Losses')\n",
    "axes.set_ylabel('Model Loss')\n",
    "axes.set_xlabel('Iterations')\n",
    "axes.legend(['train', 'test'])"
   ]
  },
  {
   "cell_type": "code",
   "execution_count": 171,
   "metadata": {},
   "outputs": [
    {
     "name": "stdout",
     "output_type": "stream",
     "text": [
      "Accuracy: 0.708\n",
      "Accuracy if all zero predicted:0.746\n",
      "\n",
      "Values and their occurance:\n",
      "Number: -4\n",
      "Occurance in Data:5\n",
      "Occurance in Prediction:5\n",
      "\n",
      "Number: -3\n",
      "Occurance in Data:20\n",
      "Occurance in Prediction:0\n",
      "\n",
      "Number: -2\n",
      "Occurance in Data:62\n",
      "Occurance in Prediction:1\n",
      "\n",
      "Number: -1\n",
      "Occurance in Data:73\n",
      "Occurance in Prediction:33\n",
      "\n",
      "Number: 0\n",
      "Occurance in Data:1119\n",
      "Occurance in Prediction:1356\n",
      "\n",
      "Number: 1\n",
      "Occurance in Data:101\n",
      "Occurance in Prediction:0\n",
      "\n",
      "Number: 2\n",
      "Occurance in Data:89\n",
      "Occurance in Prediction:87\n",
      "\n",
      "Number: 3\n",
      "Occurance in Data:24\n",
      "Occurance in Prediction:18\n",
      "\n",
      "Number: 4\n",
      "Occurance in Data:7\n",
      "Occurance in Prediction:0\n",
      "\n"
     ]
    }
   ],
   "source": [
    "def calculate_accuracy(X, y, model):\n",
    "    AL = model.predict(X)\n",
    "     \n",
    "    ALVals = AL.argmax(axis=1) - 4\n",
    "    yVals = y.argmax(axis=1) - 4\n",
    "    \n",
    "    accurate = np.sum(yVals == ALVals)\n",
    "    accuracy = accurate/yVals.shape[0]\n",
    "    print(\"Accuracy: \" + str(accuracy))\n",
    "    print(\"Accuracy if all zero predicted:\" + str(np.sum(yVals == 0)/yVals.shape[0]))\n",
    "    \n",
    "    print(\"\\nValues and their occurance:\")\n",
    "    \n",
    "    for i in range(-4,5):\n",
    "        print(\"Number: \" + str(i))\n",
    "        print(\"Occurance in Data:\" +  str(np.sum(yVals == i)))\n",
    "        print(\"Occurance in Prediction:\" +  str(np.sum(ALVals == i)))\n",
    "        print()\n",
    "\n",
    "calculate_accuracy(Xtrain, ytrain, model)"
   ]
  },
  {
   "cell_type": "code",
   "execution_count": 194,
   "metadata": {},
   "outputs": [],
   "source": [
    "pd_Combined = pd_Xtrain.append(pd_Xtest)"
   ]
  },
  {
   "cell_type": "code",
   "execution_count": 196,
   "metadata": {},
   "outputs": [],
   "source": [
    "sharpeTest = pd_Combined['Weighted Price'].pct_change()"
   ]
  },
  {
   "cell_type": "code",
   "execution_count": 236,
   "metadata": {},
   "outputs": [],
   "source": [
    "def sharpe_ratio(returns, N=365):\n",
    "    return np.sqrt(N) * returns.mean() / returns.std()\n",
    "\n",
    "def sortino_ratio(returns, N=365):\n",
    "    return np.sqrt(N) * returns.mean() / returns[returns < 0].std() #but we short too. so fall is not bad either"
   ]
  },
  {
   "cell_type": "code",
   "execution_count": 239,
   "metadata": {},
   "outputs": [
    {
     "name": "stdout",
     "output_type": "stream",
     "text": [
      "From 2013-03-31 to next\n",
      "Sharpe Ratio: 1.8697884867469279\n",
      "Sortino Ratio:2.293532984312453\n",
      "\n",
      "From 2014-03-31 to next\n",
      "Sharpe Ratio: -0.6576356475741287\n",
      "Sortino Ratio:-0.9144037475024734\n",
      "\n",
      "From 2015-03-31 to next\n",
      "Sharpe Ratio: 1.3772534330020059\n",
      "Sortino Ratio:1.8539348433607257\n",
      "\n",
      "From 2016-03-30 to next\n",
      "Sharpe Ratio: 2.986673434072341\n",
      "Sortino Ratio:4.770407079202713\n",
      "\n",
      "From 2017-07-15 to next\n",
      "Sharpe Ratio: 3.5340572118395643\n",
      "Sortino Ratio:5.6851309283582045\n",
      "\n"
     ]
    }
   ],
   "source": [
    "for i in range(1, math.ceil(pd_Combined.shape[0] / 365) + 1):\n",
    "    print(\"From {} to next\".format(sharpeTest.index[365 * (i-1)].date()))\n",
    "    print(\"Sharpe Ratio: {}\\nSortino Ratio:{}\\n\".format(sharpe_ratio(sharpeTest[365 * (i-1):365 * i]), sortino_ratio(sharpeTest[365 * (i-1):365 * i])))"
   ]
  },
  {
   "cell_type": "code",
   "execution_count": null,
   "metadata": {},
   "outputs": [],
   "source": []
  },
  {
   "cell_type": "code",
   "execution_count": null,
   "metadata": {},
   "outputs": [],
   "source": []
  }
 ],
 "metadata": {
  "kernelspec": {
   "display_name": "Python 3",
   "language": "python",
   "name": "python3"
  },
  "language_info": {
   "codemirror_mode": {
    "name": "ipython",
    "version": 3
   },
   "file_extension": ".py",
   "mimetype": "text/x-python",
   "name": "python",
   "nbconvert_exporter": "python",
   "pygments_lexer": "ipython3",
   "version": "3.6.1"
  }
 },
 "nbformat": 4,
 "nbformat_minor": 2
}
