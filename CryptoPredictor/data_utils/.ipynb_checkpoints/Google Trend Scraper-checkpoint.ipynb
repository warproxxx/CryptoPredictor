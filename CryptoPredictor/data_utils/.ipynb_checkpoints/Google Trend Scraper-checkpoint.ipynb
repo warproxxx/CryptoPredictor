{
 "cells": [
  {
   "cell_type": "code",
   "execution_count": 6,
   "metadata": {},
   "outputs": [
    {
     "name": "stdout",
     "output_type": "stream",
     "text": [
      "Written bitcoin.csv\n",
      "Written ethereum.csv\n",
      "Written dashpay.csv\n",
      "Written dogecoin.csv\n",
      "Written litecoin.csv\n",
      "Written stellar.csv\n",
      "Written monero.csv\n",
      "Written ripple.csv\n"
     ]
    }
   ],
   "source": [
    "from pytrends.request import TrendReq\n",
    "\n",
    "\n",
    "coins = ['bitcoin', 'ethereum', 'dashpay', 'dogecoin', 'litecoin', 'stellar', 'monero', 'ripple']\n",
    "\n",
    "\n",
    "for coin in coins:\n",
    "    pytrend = TrendReq()\n",
    "\n",
    "    pytrend.build_payload(kw_list=[coin])\n",
    "\n",
    "    interest_over_time_df = pytrend.interest_over_time().sort_index(axis=0, ascending=False)\n",
    "    interest_over_time_df.to_csv('trends_data/{}.csv'.format(coin))\n",
    "    print('Written {}.csv'.format(coin))"
   ]
  },
  {
   "cell_type": "code",
   "execution_count": null,
   "metadata": {},
   "outputs": [],
   "source": []
  }
 ],
 "metadata": {
  "kernelspec": {
   "display_name": "Python 3",
   "language": "python",
   "name": "python3"
  },
  "language_info": {
   "codemirror_mode": {
    "name": "ipython",
    "version": 3
   },
   "file_extension": ".py",
   "mimetype": "text/x-python",
   "name": "python",
   "nbconvert_exporter": "python",
   "pygments_lexer": "ipython3",
   "version": "3.6.1"
  }
 },
 "nbformat": 4,
 "nbformat_minor": 2
}
