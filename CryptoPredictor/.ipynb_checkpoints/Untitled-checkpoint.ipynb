{
 "cells": [
  {
   "cell_type": "code",
   "execution_count": 2,
   "metadata": {},
   "outputs": [],
   "source": [
    "import numpy as np\n",
    "import pandas as pd\n",
    "\n",
    "import backtrader as bt"
   ]
  },
  {
   "cell_type": "code",
   "execution_count": null,
   "metadata": {},
   "outputs": [],
   "source": [
    "class TestStrategy(bt.Strategy):\n",
    "    \n",
    "    def __init__(self):\n",
    "                "
   ]
  },
  {
   "cell_type": "code",
   "execution_count": null,
   "metadata": {},
   "outputs": [],
   "source": [
    "class testBacktester:\n",
    "    def __init__(self):\n",
    "        \n",
    "        np.random.seed(1)\n",
    "        \n",
    "        self.df = pd.read_csv('BackTest/tests/bitcoin_test.csv')\n",
    "        self.df['Percentage'] = np.random.uniform(low=0, high=0.2, size=self.df.shape[0])\n",
    "        self.df['Classification'] = self.df['Percentage'].apply(PriceFunctions().percentage_to_classification)\n",
    "        self.df['Classification'] = self.df['Classification'].apply(lambda x: np.random.uniform(low=0, high=0.5) if x == 0 else np.random.uniform(low=0.5, high=1)) #adding randomness to classification\n",
    "        \n",
    "        self.signals = np.asarray(self.df[['Percentage', 'Classification']])\n",
    "        \n",
    "        self.df.drop(['Percentage', 'Classification'], axis=1, inplace=True)\n",
    "        "
   ]
  },
  {
   "cell_type": "code",
   "execution_count": null,
   "metadata": {},
   "outputs": [],
   "source": []
  }
 ],
 "metadata": {
  "kernelspec": {
   "display_name": "Python 3",
   "language": "python",
   "name": "python3"
  },
  "language_info": {
   "codemirror_mode": {
    "name": "ipython",
    "version": 3
   },
   "file_extension": ".py",
   "mimetype": "text/x-python",
   "name": "python",
   "nbconvert_exporter": "python",
   "pygments_lexer": "ipython3",
   "version": "3.6.1"
  }
 },
 "nbformat": 4,
 "nbformat_minor": 2
}
