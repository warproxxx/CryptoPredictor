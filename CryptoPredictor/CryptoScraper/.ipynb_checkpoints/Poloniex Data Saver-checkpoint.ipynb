{
 "cells": [
  {
   "cell_type": "code",
   "execution_count": 233,
   "metadata": {},
   "outputs": [],
   "source": [
    "from data_utils import BasicFunctions, PriceFunctions\n",
    "import requests\n",
    "import json\n",
    "\n",
    "class poloniexDownloader():\n",
    "    \n",
    "    def __init__(self, symbol):\n",
    "        pf = PriceFunctions()\n",
    "        self.btc = pf.get_pandas(coin='BTC', targetdays=24, absolute=True) #as the data is hourly\n",
    "        self.btc = btc.reset_index()\n",
    "        self.url = \"https://poloniex.com/public?command=returnChartData&currencyPair=BTC_{}&start={}&end=9999999999&period={}\" #gives half an hour data\n",
    "        self.symbol = symbol\n",
    "\n",
    "    def getData(self):\n",
    "        firstRes = requests.get(self.url.format(self.symbol, '0', '86400'))\n",
    "        firstData = firstRes.text\n",
    "        firstDf = pd.read_json(firstData, convert_dates=False)\n",
    "        \n",
    "        finalDate = firstDf['date'][0]\n",
    "        \n",
    "        closest = btc.iloc[(btc['Time']-firstDf['date'][0]).abs().argsort()[0]]['Time']\n",
    "        res = requests.get(url.format(self.symbol, int(closest), 1800))\n",
    "        data = res.text\n",
    "        df = pd.read_json(data, convert_dates=False)\n",
    "        df = df[['date', 'open', 'close', 'high', 'low', 'volume']]\n",
    "        df.columns = ['Date', 'Open', 'Close', 'High', 'Low', 'Volume']\n",
    "        \n",
    "        if ([df['Date']%3600][0][0] != 0): #because keeping 2 values\n",
    "            df = df[1:]\n",
    "        \n",
    "        df = df.reset_index(drop=True)\n",
    "        \n",
    "        df = df[df['Date'] <= int(btc.iloc[-1]['Time'])] #till the last\n",
    "        \n",
    "        return df\n",
    "    \n",
    "    def mergeData(self, df, time=2):\n",
    "        \n",
    "        retDf = pd.DataFrame(columns=['Date', 'Open', 'Close', 'High', 'Low', 'Volume'])\n",
    "        \n",
    "        for i in range(0, df.shape[0], time):\n",
    "\n",
    "            tempdf = df.iloc[i:i+time]\n",
    "            retDf = retDf.append({'Date': tempdf.iloc[0]['Date'], 'Open': tempdf.iloc[0]['Open'], 'Close': tempdf.iloc[-1]['Close'], 'High': max(tempdf['High']), 'Low': min(tempdf['Low']), 'Volume': sum(tempdf['Volume'])}, ignore_index=True)\n",
    "        \n",
    "        retDf['Date'] = retDf['Date'].astype(int)\n",
    "        \n",
    "        return retDf"
   ]
  },
  {
   "cell_type": "code",
   "execution_count": 227,
   "metadata": {},
   "outputs": [],
   "source": [
    "coins = ['ETH', 'LTC', 'XMR', 'XRP', 'STR', 'DASH', 'DOGE']\n",
    "\n",
    "for coin in coins:\n",
    "    ad = poloniexDownloader(coin)\n",
    "    ret = ad.getData()\n",
    "    df = ad.mergeData(ret)\n",
    "    df.to_csv('cache/{}.csv'.format(coin), index=False)\n",
    "    #save df to csv"
   ]
  },
  {
   "cell_type": "code",
   "execution_count": null,
   "metadata": {},
   "outputs": [],
   "source": [
    "#add tests to verify after saved"
   ]
  }
 ],
 "metadata": {
  "kernelspec": {
   "display_name": "Python 3",
   "language": "python",
   "name": "python3"
  }
 },
 "nbformat": 4,
 "nbformat_minor": 2
}
