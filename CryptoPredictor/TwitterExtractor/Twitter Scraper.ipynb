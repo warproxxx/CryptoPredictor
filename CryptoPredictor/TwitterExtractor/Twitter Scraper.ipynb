{
 "cells": [
  {
   "cell_type": "code",
   "execution_count": 20,
   "metadata": {},
   "outputs": [],
   "source": [
    "from datetime import datetime, date, timedelta\n",
    "import os.path\n",
    "import pandas as pd\n",
    "import subprocess\n",
    "import sys\n",
    "import threading"
   ]
  },
  {
   "cell_type": "code",
   "execution_count": 5,
   "metadata": {},
   "outputs": [],
   "source": [
    "def daterange(start_date, end_date):\n",
    "    for n in range(int ((end_date - start_date).days)):\n",
    "        yield start_date + timedelta(n)"
   ]
  },
  {
   "cell_type": "code",
   "execution_count": 9,
   "metadata": {},
   "outputs": [],
   "source": [
    "def execute(command):\n",
    "    process = subprocess.Popen(command, shell=True, stdout=subprocess.PIPE, stderr=subprocess.STDOUT)\n",
    "\n",
    "    # Poll process for new output until finished\n",
    "    while True:\n",
    "        nextline = process.stdout.readline()\n",
    "        if nextline == '' and process.poll() is not None:\n",
    "            break\n",
    "        sys.stdout.write(nextline.decode('utf-8'))\n",
    "        sys.stdout.flush()\n",
    "\n",
    "    output = process.communicate()[0]\n",
    "    exitCode = process.returncode\n",
    "\n",
    "    if (exitCode == 0):\n",
    "        return output\n",
    "    else:\n",
    "        raise ProcessException(command, exitCode, output)"
   ]
  },
  {
   "cell_type": "code",
   "execution_count": 27,
   "metadata": {},
   "outputs": [],
   "source": [
    "def scrape(start_date, end_date):\n",
    "    since=start_date.strftime('%Y-%m-%d')\n",
    "\n",
    "    keyword = \"Bitcoin\"\n",
    "\n",
    "    for single_date in daterange(start_date, end_date):\n",
    "        until = single_date.strftime(\"%Y-%m-%d\")\n",
    "\n",
    "        dir_path = os.getcwd()\n",
    "        cmd = 'python2 \"{}\\Exporter.py\" --querysearch \"{}\" --maxtweets 1000 --toptweets --since {} --until {} --output {}'.format(dir_path, keyword, since, until, until + '.csv')\n",
    "        execute(cmd)\n",
    "\n",
    "        since = until"
   ]
  },
  {
   "cell_type": "code",
   "execution_count": 28,
   "metadata": {},
   "outputs": [
    {
     "name": "stdout",
     "output_type": "stream",
     "text": [
      "Searching...\n",
      "\n",
      "Done. Output file generated \"2017-01-01.csv\".\n",
      "Searching...\n",
      "\n",
      "Done. Output file generated \"2014-01-01.csv\".\n",
      "Searching...\n",
      "\n",
      "Done. Output file generated \"2016-01-01.csv\".\n",
      "Searching...\n",
      "\n",
      "Done. Output file generated \"2013-01-01.csv\".\n",
      "Searching...\n",
      "\n",
      "Done. Output file generated \"2015-01-01.csv\".\n"
     ]
    }
   ],
   "source": [
    "threads = []\n",
    "\n",
    "for y in range(2013, 2018):\n",
    "    t = threading.Thread(target=scrape, args=(date(y, 1, 1), date(y, 12, 31)))\n",
    "    threads.append(t)\n",
    "    t.start()"
   ]
  },
  {
   "cell_type": "code",
   "execution_count": null,
   "metadata": {},
   "outputs": [],
   "source": []
  }
 ],
 "metadata": {
  "kernelspec": {
   "display_name": "Python 3",
   "language": "python",
   "name": "python3"
  },
  "language_info": {
   "codemirror_mode": {
    "name": "ipython",
    "version": 3
   },
   "file_extension": ".py",
   "mimetype": "text/x-python",
   "name": "python",
   "nbconvert_exporter": "python",
   "pygments_lexer": "ipython3",
   "version": "3.6.1"
  }
 },
 "nbformat": 4,
 "nbformat_minor": 2
}
