{
 "cells": [
  {
   "cell_type": "code",
   "execution_count": 1,
   "metadata": {
    "scrolled": true
   },
   "outputs": [
    {
     "name": "stderr",
     "output_type": "stream",
     "text": [
      "c:\\programdata\\anaconda3\\lib\\site-packages\\h5py\\__init__.py:36: FutureWarning: Conversion of the second argument of issubdtype from `float` to `np.floating` is deprecated. In future, it will be treated as `np.float64 == np.dtype(float).type`.\n",
      "  from ._conv import register_converters as _register_converters\n"
     ]
    }
   ],
   "source": [
    "import numpy as np\n",
    "import pandas as pd\n",
    "import matplotlib.pyplot as plt\n",
    "from data_utils import BasicFunctions, PriceFunctions\n",
    "from TechnicalAnalysis import TechnicalAnalysis \n",
    "import math\n",
    "import tensorflow as tf\n",
    "\n",
    "%matplotlib inline"
   ]
  },
  {
   "cell_type": "code",
   "execution_count": 14,
   "metadata": {},
   "outputs": [],
   "source": [
    "import pandas as pd\n",
    "\n",
    "class Backtester:\n",
    "    \n",
    "    '''\n",
    "    Strategy is based on this book:\n",
    "    Successful Algorithmic Trading by Michael L. Halls-Moore\n",
    "\n",
    "    \n",
    "    '''\n",
    "    \n",
    "    #add margin rates and margin size too later\n",
    "    def __init__(self, symbol, bars, signals, period=1, bankroll=10000, stake=1000, comission=0.2, slippage=0.1):\n",
    "        '''\n",
    "        Parameters:\n",
    "        ___________\n",
    "        symbol (string):\n",
    "        The currency symbol. Example: BTC\n",
    "        \n",
    "        bars (pandas):\n",
    "        Pandas dataframe containing Open, Close, High and Low Value. The Close value will be used\n",
    "        \n",
    "        signals (Dataframe or numpy):\n",
    "        Array of Numbers between 4 and -4 specifying strategy for that particular day\n",
    "        \n",
    "        period (int):\n",
    "        Number that represents how far in the future the timeframe lies\n",
    "        1 is used for classification whose target is 1 timeframe away and so on\n",
    "        \n",
    "        bankroll (int optional):\n",
    "        The initial cash to start with\n",
    "        \n",
    "        stake (int optional):\n",
    "        size of each trade\n",
    "        \n",
    "        comission (int optional):\n",
    "        Comission per trade in percentage (out of 100)\n",
    "        \n",
    "        slippage (int optional):\n",
    "        Slippage per trade in percentage (out of 100)\n",
    "        '''\n",
    "        self.symbol = symbol\n",
    "        self.bars = bars\n",
    "        self.signals = signals\n",
    "        self.period = period\n",
    "        self.bankroll = bankroll\n",
    "        self.stake = stake\n",
    "        self.comission = comission\n",
    "        self.slippage = slippage\n",
    "        self.currsignal = ''\n",
    "        \n",
    "    def perform_backtest(self):\n",
    "        #stake size according to confidence in prediction\n",
    "        \n",
    "        for i in range(self.bars.shape[0]):\n",
    "            if (self.signals[i] >= 1):\n",
    "                self.currsignal = 'LONG'\n",
    "            elif (self.signals[i] <= -1)\n",
    "                self.currsignal = 'SHORT'\n",
    "            \n",
    "            print(\"{}\".format(self.bars['Close'][i]))"
   ]
  },
  {
   "cell_type": "code",
   "execution_count": 15,
   "metadata": {},
   "outputs": [
    {
     "name": "stdout",
     "output_type": "stream",
     "text": [
      "314.96 0\n",
      "315.81 -3\n",
      "278.22 -2\n",
      "264.19 1\n",
      "274.84 1\n",
      "288.43 1\n",
      "297.99 -2\n",
      "283.21 0\n",
      "290.51 -2\n",
      "276.03 -1\n",
      "267.27 0\n",
      "268.75 -3\n",
      "228.07 -4\n",
      "182.0 3\n",
      "209.81 0\n",
      "208.5 -1\n",
      "201.09 1\n",
      "211.03 0\n",
      "216.2 0\n",
      "212.11 2\n",
      "228.08 0\n",
      "234.7 0\n",
      "233.12 2\n",
      "248.66 0\n",
      "254.73 2\n",
      "276.01 -1\n",
      "265.09 -3\n",
      "234.5 0\n",
      "233.01 0\n",
      "226.44 -1\n",
      "215.8 1\n",
      "226.92 0\n"
     ]
    }
   ],
   "source": [
    "import quandl\n",
    "import pandas as pd\n",
    "import numpy as np\n",
    "from data_utils import BasicFunctions, PriceFunctions\n",
    "\n",
    "class testBacktester:\n",
    "    def __init__(self):\n",
    "        \n",
    "        self.df = pd.read_csv('BackTest/tests/bitcoin_test.csv')\n",
    "        self.df['Percentage'] = 1 - self.df['Close']/self.df.shift(-1)['Close']\n",
    "                       \n",
    "        self.signals = self.df['Percentage'].apply(PriceFunctions().percentage_to_classification)\n",
    "        \n",
    "        self.df.drop('Percentage', axis=1, inplace=True)\n",
    "    \n",
    "    def test_perform_backtest(self):\n",
    "        bt = Backtester('BTC', self.df, self.signals)\n",
    "        bt.perform_backtest()\n",
    "        \n",
    "        \n",
    "testBacktester().test_perform_backtest()"
   ]
  },
  {
   "cell_type": "code",
   "execution_count": 2,
   "metadata": {},
   "outputs": [],
   "source": [
    "bf = BasicFunctions()\n",
    "pf = PriceFunctions()"
   ]
  },
  {
   "cell_type": "code",
   "execution_count": 3,
   "metadata": {},
   "outputs": [],
   "source": [
    "df = pf.get_pandas(coin='BTC')"
   ]
  },
  {
   "cell_type": "code",
   "execution_count": 6,
   "metadata": {},
   "outputs": [],
   "source": [
    "ta = TechnicalAnalysis(df, timeframe=[24], period=[14])\n",
    "ta.merge_time()"
   ]
  },
  {
   "cell_type": "code",
   "execution_count": 7,
   "metadata": {},
   "outputs": [],
   "source": [
    "df_withta = ta.get_dic()['24hour'] #set classification too"
   ]
  },
  {
   "cell_type": "code",
   "execution_count": 8,
   "metadata": {},
   "outputs": [],
   "source": [
    "# ta = TechnicalAnalysis(df, timeframe=[3,6,12,24], period=[14, 20])\n",
    "# ta.merge_time()\n",
    "\n",
    "# ta.perform('obv')\n",
    "# ta.perform('macd')\n",
    "# ta.perform('bollingerband')\n",
    "# ta.perform('volumechange')\n",
    "# ta.perform('rsi')\n",
    "\n",
    "\n",
    "# df_withta = ta.get_dataframe()\n",
    "\n",
    "#test and train should be merged while doing this"
   ]
  },
  {
   "cell_type": "code",
   "execution_count": 9,
   "metadata": {},
   "outputs": [],
   "source": [
    "pd_Xtrain, pd_ytrain, pd_Xtest, pd_ytest = pf.split_traintest(df_withta)\n",
    "mean, std, Xtrain, ytrainOrig, Xtest, ytestOrig = pf.get_numpy(pd_Xtrain, pd_ytrain, pd_Xtest, pd_ytest)"
   ]
  },
  {
   "cell_type": "code",
   "execution_count": 10,
   "metadata": {},
   "outputs": [],
   "source": [
    "ytrain = bf.convert_to_one_hot(ytrainOrig, 9)\n",
    "ytest = bf.convert_to_one_hot(ytestOrig, 9)"
   ]
  },
  {
   "cell_type": "code",
   "execution_count": 12,
   "metadata": {},
   "outputs": [],
   "source": [
    "def create_placeholders():\n",
    "    X = tf.placeholder(tf.float32, shape=(None, 5), name='X')\n",
    "    y = tf.placeholder(tf.int32, shape=(None, 9), name='y')\n",
    "    \n",
    "    return X,y"
   ]
  },
  {
   "cell_type": "code",
   "execution_count": 21,
   "metadata": {},
   "outputs": [],
   "source": [
    "def forward_propagation(X, training):\n",
    "    Z1 = tf.layers.dense(X, 30, name='Z1', kernel_initializer=tf.keras.initializers.he_normal(seed=1))\n",
    "    bn1 = tf.layers.batch_normalization(Z1, training=training, name='bn1')\n",
    "    ac1 = tf.nn.relu(bn1, name='ac1')\n",
    "    A1 = tf.layers.dropout(ac1, 0.3, name='A1')\n",
    "    \n",
    "    Z2 = tf.layers.dense(A1, 15, name='Z2', kernel_initializer=tf.keras.initializers.he_normal(seed=1))\n",
    "    bn2 = tf.layers.batch_normalization(Z2, training=training, name='bn2')\n",
    "    ac2 = tf.nn.relu(bn2, name='ac2')\n",
    "    A2 = tf.layers.dropout(ac2, 0.3, name='A2')\n",
    "    \n",
    "    Z3 = tf.layers.dense(A2, 9, name='Z3', kernel_initializer=tf.keras.initializers.he_normal(seed=1))\n",
    "    #AL = tf.nn.softmax(Z3)\n",
    "    \n",
    "    return Z3"
   ]
  },
  {
   "cell_type": "code",
   "execution_count": 22,
   "metadata": {},
   "outputs": [],
   "source": [
    "def cost_function(AL, y):\n",
    "    cost = tf.reduce_mean(tf.nn.softmax_cross_entropy_with_logits_v2(labels=y, logits=AL))\n",
    "    return cost"
   ]
  },
  {
   "cell_type": "code",
   "execution_count": 23,
   "metadata": {},
   "outputs": [],
   "source": [
    "import os\n",
    "cwd = os.getcwd()\n",
    "\n",
    "from datetime import datetime\n",
    "now = datetime.utcnow().strftime(\"%Y%m%d%H%M%S\")\n",
    "root_logdir = \"tf_logs\"\n",
    "logdir = \"{}/run-{}/\".format(root_logdir, now)"
   ]
  },
  {
   "cell_type": "code",
   "execution_count": 24,
   "metadata": {
    "scrolled": false
   },
   "outputs": [
    {
     "name": "stdout",
     "output_type": "stream",
     "text": [
      "Iteration: 0 Cost: 2.380812883377075\n",
      "Iteration: 10 Cost: 1.762407898902893\n",
      "Iteration: 20 Cost: 1.405078411102295\n",
      "Iteration: 30 Cost: 1.2101305723190308\n",
      "Iteration: 40 Cost: 1.1117677688598633\n",
      "Iteration: 50 Cost: 1.0699800252914429\n",
      "Iteration: 60 Cost: 1.0443545579910278\n",
      "Iteration: 70 Cost: 1.026841402053833\n",
      "Iteration: 80 Cost: 1.013856053352356\n",
      "Iteration: 90 Cost: 1.0029984712600708\n",
      "Iteration: 100 Cost: 0.9947768449783325\n",
      "Iteration: 110 Cost: 0.988156795501709\n",
      "Iteration: 120 Cost: 0.9819759726524353\n",
      "Iteration: 130 Cost: 0.9772450923919678\n",
      "Iteration: 140 Cost: 0.9726813435554504\n",
      "Iteration: 150 Cost: 0.9681301116943359\n",
      "Iteration: 160 Cost: 0.964587390422821\n",
      "Iteration: 170 Cost: 0.9607357382774353\n",
      "Iteration: 180 Cost: 0.9572651982307434\n",
      "Iteration: 190 Cost: 0.9533673524856567\n",
      "Iteration: 200 Cost: 0.9494580626487732\n",
      "Iteration: 210 Cost: 0.9466181993484497\n",
      "Iteration: 220 Cost: 0.943345844745636\n",
      "Iteration: 230 Cost: 0.9406256079673767\n",
      "Iteration: 240 Cost: 0.9377827048301697\n",
      "Iteration: 250 Cost: 0.933423638343811\n",
      "Iteration: 260 Cost: 0.9309631586074829\n",
      "Iteration: 270 Cost: 0.927604079246521\n",
      "Iteration: 280 Cost: 0.9242469072341919\n",
      "Iteration: 290 Cost: 0.9211727380752563\n"
     ]
    },
    {
     "data": {
      "image/png": "[encoded data removed]",
      "text/plain": [
       "<matplotlib.figure.Figure at 0x21c192c3940>"
      ]
     },
     "metadata": {},
     "output_type": "display_data"
    }
   ],
   "source": [
    "tf.reset_default_graph()\n",
    "\n",
    "with tf.name_scope('Initialize'):\n",
    "    X, y = create_placeholders()\n",
    "    training = tf.placeholder(tf.bool, shape=(), name='training')\n",
    "    \n",
    "with tf.name_scope('ForwardPropagation'):\n",
    "    AL = forward_propagation(X, training)\n",
    "    \n",
    "with tf.name_scope('CostFunction'):\n",
    "    cost = cost_function(AL, ytrain)\n",
    "    \n",
    "with tf.name_scope('BackPropagation'):\n",
    "    optimizer = tf.train.AdamOptimizer(learning_rate=0.005).minimize(cost)\n",
    "    \n",
    "init = tf.global_variables_initializer()\n",
    "\n",
    "cost_summary = tf.summary.scalar('Cost', cost)\n",
    "file_writer = tf.summary.FileWriter(logdir, tf.get_default_graph())\n",
    "\n",
    "costs = []\n",
    "\n",
    "with tf.Session() as sess:\n",
    "    sess.run(init)\n",
    "    mini_batches = bf.initialize_mini_batch(Xtrain, ytrain, batchsize=64)\n",
    "    \n",
    "    for i in range(300):\n",
    "        for batch in mini_batches:\n",
    "            (Xbatch, ybatch) = batch\n",
    "            sess.run(optimizer, feed_dict={X: Xbatch, y: ybatch, training: True})\n",
    "            \n",
    "        if (i % 10 == 0):\n",
    "            cost_str = cost_summary.eval(feed_dict={X: Xbatch, y: ybatch, training: True})\n",
    "            costeval = cost.eval(feed_dict={X: Xbatch, y: ybatch, training: True}) #this line is being repeated\n",
    "            costs.append(costeval)\n",
    "            print(\"Iteration: {} Cost: {}\".format(i, costeval))\n",
    "            \n",
    "            file_writer.add_summary(cost_str, i)\n",
    "            \n",
    "    \n",
    "    saver = tf.train.Saver()\n",
    "    saver.save(sess, cwd + '/tf_logs/session/session.chkp')\n",
    "    file_writer.close()\n",
    "    \n",
    "bf.single_plot(costs, log=False)"
   ]
  },
  {
   "cell_type": "code",
   "execution_count": 25,
   "metadata": {},
   "outputs": [],
   "source": [
    "def calculate_accuracy(y, AL):\n",
    "    ALVals = AL.argmax(axis=1) - 4\n",
    "    yVals = y.argmax(axis=1) - 4\n",
    "    \n",
    "    accurate = np.sum(yVals == ALVals)\n",
    "    accuracy = accurate/yVals.shape[0]\n",
    "    print(\"Accuracy: \" + str(accuracy))\n",
    "    print(\"Accuracy if all zero predicted:\" + str(np.sum(yVals == 0)/yVals.shape[0]))\n",
    "    \n",
    "    print(\"\\nValues and their occurance:\")\n",
    "    \n",
    "    for i in range(-4,5):\n",
    "        print(\"Number: \" + str(i))\n",
    "        print(\"Occurance in Data:\" +  str(np.sum(yVals == i)))\n",
    "        print(\"Occurance in Prediction:\" +  str(np.sum(ALVals == i)))\n",
    "        print()"
   ]
  },
  {
   "cell_type": "code",
   "execution_count": 26,
   "metadata": {},
   "outputs": [
    {
     "name": "stdout",
     "output_type": "stream",
     "text": [
      "INFO:tensorflow:Restoring parameters from C:\\Users\\User\\Desktop\\Dissertation\\CryptoPredictor\\CryptoPredictor/tf_logs/session/session.chkp\n",
      "Accuracy: 0.6626586506346025\n",
      "Accuracy if all zero predicted:0.7227788911155645\n",
      "\n",
      "Values and their occurance:\n",
      "Number: -4\n",
      "Occurance in Data:14\n",
      "Occurance in Prediction:0\n",
      "\n",
      "Number: -3\n",
      "Occurance in Data:22\n",
      "Occurance in Prediction:0\n",
      "\n",
      "Number: -2\n",
      "Occurance in Data:66\n",
      "Occurance in Prediction:0\n",
      "\n",
      "Number: -1\n",
      "Occurance in Data:75\n",
      "Occurance in Prediction:1\n",
      "\n",
      "Number: 0\n",
      "Occurance in Data:1082\n",
      "Occurance in Prediction:1332\n",
      "\n",
      "Number: 1\n",
      "Occurance in Data:124\n",
      "Occurance in Prediction:161\n",
      "\n",
      "Number: 2\n",
      "Occurance in Data:83\n",
      "Occurance in Prediction:1\n",
      "\n",
      "Number: 3\n",
      "Occurance in Data:28\n",
      "Occurance in Prediction:2\n",
      "\n",
      "Number: 4\n",
      "Occurance in Data:3\n",
      "Occurance in Prediction:0\n",
      "\n"
     ]
    }
   ],
   "source": [
    "with tf.Session() as sess:\n",
    "    saver = tf.train.Saver()\n",
    "    saver.restore(sess, cwd + '/tf_logs/session/session.chkp')\n",
    "    \n",
    "    Z = sess.run(AL, feed_dict={X: Xtrain, training: False})\n",
    "    ALast = tf.nn.softmax(Z).eval()\n",
    "    \n",
    "    calculate_accuracy(ytrain, ALast)"
   ]
  },
  {
   "cell_type": "code",
   "execution_count": 11,
   "metadata": {},
   "outputs": [],
   "source": [
    "#Backtest. Dimension reduction. fix the issues with cost then calculate accuracy in longer data.  Then twitter, reddit."
   ]
  },
  {
   "cell_type": "code",
   "execution_count": null,
   "metadata": {},
   "outputs": [],
   "source": []
  }
 ],
 "metadata": {
  "kernelspec": {
   "display_name": "Python 3",
   "language": "python",
   "name": "python3"
  },
  "language_info": {
   "codemirror_mode": {
    "name": "ipython",
    "version": 3
   },
   "file_extension": ".py",
   "mimetype": "text/x-python",
   "name": "python",
   "nbconvert_exporter": "python",
   "pygments_lexer": "ipython3",
   "version": "3.6.1"
  }
 },
 "nbformat": 4,
 "nbformat_minor": 2
}
